{
 "cells": [
  {
   "cell_type": "code",
   "execution_count": 1,
   "id": "00bd0b57-7b73-4c21-abe1-c2e90edf5521",
   "metadata": {},
   "outputs": [],
   "source": [
    "import pandas as pd\n",
    "import re"
   ]
  },
  {
   "cell_type": "code",
   "execution_count": 3,
   "id": "da3569b3-8985-406f-b3cd-f025ab73a250",
   "metadata": {},
   "outputs": [],
   "source": [
    "# sino, el mismo wrap up/subtipo\n",
    "df=pd.read_excel('Redes_Temas_diccionario_wrapup.xlsx')#,names=['comentario_ing','category',3,4,5]"
   ]
  },
  {
   "cell_type": "code",
   "execution_count": 4,
   "id": "d56d3b45-4588-428e-94d8-f961db25dbc3",
   "metadata": {},
   "outputs": [],
   "source": [
    "df['Diccionario']=df['NAME'].apply(lambda x: re.findall('(.*)-',x)[0] if re.match('(.*)-',x) else '')\n",
    "# df['msj_cliente']=df['MENSAJE'].apply(lambda x: re.findall('Cliente:...(.*)',x)[0] if re.match('.*Cliente:.*',x) else '')\n"
   ]
  },
  {
   "cell_type": "code",
   "execution_count": 5,
   "id": "7a5426bd-3052-46bc-8fa9-dd9fd546cbfd",
   "metadata": {},
   "outputs": [
    {
     "data": {
      "text/html": [
       "<div>\n",
       "<style scoped>\n",
       "    .dataframe tbody tr th:only-of-type {\n",
       "        vertical-align: middle;\n",
       "    }\n",
       "\n",
       "    .dataframe tbody tr th {\n",
       "        vertical-align: top;\n",
       "    }\n",
       "\n",
       "    .dataframe thead th {\n",
       "        text-align: right;\n",
       "    }\n",
       "</style>\n",
       "<table border=\"1\" class=\"dataframe\">\n",
       "  <thead>\n",
       "    <tr style=\"text-align: right;\">\n",
       "      <th></th>\n",
       "      <th>NAME</th>\n",
       "      <th>Diccionario</th>\n",
       "      <th>Revisar</th>\n",
       "    </tr>\n",
       "  </thead>\n",
       "  <tbody>\n",
       "    <tr>\n",
       "      <th>0</th>\n",
       "      <td>Inf. Campañas Publicitarias</td>\n",
       "      <td></td>\n",
       "      <td>si</td>\n",
       "    </tr>\n",
       "    <tr>\n",
       "      <th>1</th>\n",
       "      <td>Inf. Estado Caso</td>\n",
       "      <td></td>\n",
       "      <td>si</td>\n",
       "    </tr>\n",
       "    <tr>\n",
       "      <th>2</th>\n",
       "      <td>Inf. Payty</td>\n",
       "      <td></td>\n",
       "      <td>si</td>\n",
       "    </tr>\n",
       "    <tr>\n",
       "      <th>3</th>\n",
       "      <td>Inf. Proyectos</td>\n",
       "      <td></td>\n",
       "      <td>si</td>\n",
       "    </tr>\n",
       "    <tr>\n",
       "      <th>4</th>\n",
       "      <td>Inf. Resarcimiento</td>\n",
       "      <td></td>\n",
       "      <td>si</td>\n",
       "    </tr>\n",
       "    <tr>\n",
       "      <th>...</th>\n",
       "      <td>...</td>\n",
       "      <td>...</td>\n",
       "      <td>...</td>\n",
       "    </tr>\n",
       "    <tr>\n",
       "      <th>495</th>\n",
       "      <td>Corresponsal Bancario - Reimpresion Tirilla</td>\n",
       "      <td>Corresponsal Bancario</td>\n",
       "      <td>no</td>\n",
       "    </tr>\n",
       "    <tr>\n",
       "      <th>496</th>\n",
       "      <td>Corresponsal Bancario - Transaccion No Permitida</td>\n",
       "      <td>Corresponsal Bancario</td>\n",
       "      <td>no</td>\n",
       "    </tr>\n",
       "    <tr>\n",
       "      <th>497</th>\n",
       "      <td>CORRESPONSALIA - Desconocimiento del proyecto</td>\n",
       "      <td>CORRESPONSALIA</td>\n",
       "      <td>no</td>\n",
       "    </tr>\n",
       "    <tr>\n",
       "      <th>498</th>\n",
       "      <td>CORRESPONSALIA - Falla en el proyecto</td>\n",
       "      <td>CORRESPONSALIA</td>\n",
       "      <td>no</td>\n",
       "    </tr>\n",
       "    <tr>\n",
       "      <th>499</th>\n",
       "      <td>CORRESPONSALIA - No sabe el manejo del proyecto</td>\n",
       "      <td>CORRESPONSALIA</td>\n",
       "      <td>no</td>\n",
       "    </tr>\n",
       "  </tbody>\n",
       "</table>\n",
       "<p>500 rows × 3 columns</p>\n",
       "</div>"
      ],
      "text/plain": [
       "                                                 NAME             Diccionario  \\\n",
       "0                         Inf. Campañas Publicitarias                           \n",
       "1                                    Inf. Estado Caso                           \n",
       "2                                          Inf. Payty                           \n",
       "3                                      Inf. Proyectos                           \n",
       "4                                  Inf. Resarcimiento                           \n",
       "..                                                ...                     ...   \n",
       "495       Corresponsal Bancario - Reimpresion Tirilla  Corresponsal Bancario    \n",
       "496  Corresponsal Bancario - Transaccion No Permitida  Corresponsal Bancario    \n",
       "497     CORRESPONSALIA - Desconocimiento del proyecto         CORRESPONSALIA    \n",
       "498             CORRESPONSALIA - Falla en el proyecto         CORRESPONSALIA    \n",
       "499   CORRESPONSALIA - No sabe el manejo del proyecto         CORRESPONSALIA    \n",
       "\n",
       "    Revisar  \n",
       "0        si  \n",
       "1        si  \n",
       "2        si  \n",
       "3        si  \n",
       "4        si  \n",
       "..      ...  \n",
       "495      no  \n",
       "496      no  \n",
       "497      no  \n",
       "498      no  \n",
       "499      no  \n",
       "\n",
       "[500 rows x 3 columns]"
      ]
     },
     "execution_count": 5,
     "metadata": {},
     "output_type": "execute_result"
    }
   ],
   "source": [
    "df"
   ]
  },
  {
   "cell_type": "code",
   "execution_count": 7,
   "id": "a8b9035b-c809-44bf-9f28-ef647a3d68c2",
   "metadata": {},
   "outputs": [],
   "source": [
    "dicc=df.set_index(['NAME'])['Diccionario'].to_dict()"
   ]
  },
  {
   "cell_type": "code",
   "execution_count": 8,
   "id": "aea03d02-21c7-444c-a46f-15b970973ff5",
   "metadata": {},
   "outputs": [],
   "source": [
    "Subtipo='P_Dev. Orden de Servicio/Cupón'"
   ]
  },
  {
   "cell_type": "code",
   "execution_count": 10,
   "id": "2a15807b-c462-4182-942b-2eaaadb86301",
   "metadata": {},
   "outputs": [
    {
     "name": "stdout",
     "output_type": "stream",
     "text": [
      "P_Dev. Orden de Servicio/Cupón\n"
     ]
    }
   ],
   "source": [
    "# dicc.setdefault('P_Dev. Orden de Servicio/Cupón','Otros'). Otra forma de encararlo\n",
    "\n",
    "try:\n",
    "    Cateogria_tema=dicc[Subtipo]\n",
    "except: \n",
    "    Cateogria_tema=Subtipo\n",
    "    \n",
    "print(Cateogria_tema)"
   ]
  },
  {
   "cell_type": "code",
   "execution_count": 11,
   "id": "572b0c6e-7ed2-4e16-a190-6ed28224f15b",
   "metadata": {},
   "outputs": [],
   "source": [
    "import os\n",
    "from pandas import ExcelWriter\n",
    "from openpyxl import load_workbook\n",
    "\n",
    "#Creo archivo\n",
    "ruta3 = \"C:/Users/Usuario/Desktop/Respositorio archivos .py/borrador/redes_dic.xlsx\" #Base Performance-\"+LA+\".xlsx es el nombre\n",
    "\n",
    "#Ingreso las bases a hojas al archivo\n",
    "writer = pd.ExcelWriter(ruta3, engine='openpyxl')\n",
    "df.to_excel(writer, index=False)\n",
    "writer.save()\n",
    "writer.close()"
   ]
  }
 ],
 "metadata": {
  "kernelspec": {
   "display_name": "Python 3",
   "language": "python",
   "name": "python3"
  },
  "language_info": {
   "codemirror_mode": {
    "name": "ipython",
    "version": 3
   },
   "file_extension": ".py",
   "mimetype": "text/x-python",
   "name": "python",
   "nbconvert_exporter": "python",
   "pygments_lexer": "ipython3",
   "version": "3.8.8"
  }
 },
 "nbformat": 4,
 "nbformat_minor": 5
}
