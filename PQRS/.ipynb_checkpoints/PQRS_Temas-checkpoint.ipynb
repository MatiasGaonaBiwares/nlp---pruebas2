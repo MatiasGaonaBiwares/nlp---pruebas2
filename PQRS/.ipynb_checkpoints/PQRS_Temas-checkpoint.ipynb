{
 "cells": [
  {
   "cell_type": "code",
   "execution_count": null,
   "id": "00bd0b57-7b73-4c21-abe1-c2e90edf5521",
   "metadata": {},
   "outputs": [],
   "source": [
    "#NO ETSA EDITADOO!! MODIFICAR"
   ]
  },
  {
   "cell_type": "code",
   "execution_count": 1,
   "id": "809e450b-4dcc-4f84-8e00-4c7b78b14bb5",
   "metadata": {},
   "outputs": [],
   "source": [
    "import pandas as pd\n"
   ]
  },
  {
   "cell_type": "code",
   "execution_count": 4,
   "id": "8506469c-4c44-497c-a6b4-e5a4d61998e8",
   "metadata": {},
   "outputs": [],
   "source": [
    "df=pd.read_excel('PQRS_Temas_Diccionario subtipo.xlsx')"
   ]
  },
  {
   "cell_type": "code",
   "execution_count": 44,
   "id": "a8b9035b-c809-44bf-9f28-ef647a3d68c2",
   "metadata": {},
   "outputs": [],
   "source": [
    "dicc=df.set_index(['Etiquetas de fila'])['Diccionario'].to_dict()"
   ]
  },
  {
   "cell_type": "code",
   "execution_count": 6,
   "id": "0f66c856-05f9-43d1-924c-cb4293c1f50d",
   "metadata": {},
   "outputs": [
    {
     "data": {
      "text/html": [
       "<div>\n",
       "<style scoped>\n",
       "    .dataframe tbody tr th:only-of-type {\n",
       "        vertical-align: middle;\n",
       "    }\n",
       "\n",
       "    .dataframe tbody tr th {\n",
       "        vertical-align: top;\n",
       "    }\n",
       "\n",
       "    .dataframe thead th {\n",
       "        text-align: right;\n",
       "    }\n",
       "</style>\n",
       "<table border=\"1\" class=\"dataframe\">\n",
       "  <thead>\n",
       "    <tr style=\"text-align: right;\">\n",
       "      <th></th>\n",
       "      <th>Diccionario</th>\n",
       "      <th>Suma de qty_num_operacion</th>\n",
       "    </tr>\n",
       "  </thead>\n",
       "  <tbody>\n",
       "    <tr>\n",
       "      <th>8</th>\n",
       "      <td>Petición de devolución</td>\n",
       "      <td>17883</td>\n",
       "    </tr>\n",
       "    <tr>\n",
       "      <th>9</th>\n",
       "      <td>Petición de devolución</td>\n",
       "      <td>15175</td>\n",
       "    </tr>\n",
       "    <tr>\n",
       "      <th>15</th>\n",
       "      <td>Petición de información</td>\n",
       "      <td>2598</td>\n",
       "    </tr>\n",
       "    <tr>\n",
       "      <th>16</th>\n",
       "      <td>Petición de Información</td>\n",
       "      <td>2436</td>\n",
       "    </tr>\n",
       "    <tr>\n",
       "      <th>42</th>\n",
       "      <td>Queja por error</td>\n",
       "      <td>2194</td>\n",
       "    </tr>\n",
       "    <tr>\n",
       "      <th>...</th>\n",
       "      <td>...</td>\n",
       "      <td>...</td>\n",
       "    </tr>\n",
       "    <tr>\n",
       "      <th>29</th>\n",
       "      <td>Fraude/Estafa</td>\n",
       "      <td>0</td>\n",
       "    </tr>\n",
       "    <tr>\n",
       "      <th>1</th>\n",
       "      <td>MB - Información general cliente</td>\n",
       "      <td>0</td>\n",
       "    </tr>\n",
       "    <tr>\n",
       "      <th>33</th>\n",
       "      <td>P_Solicitud Financiera</td>\n",
       "      <td>0</td>\n",
       "    </tr>\n",
       "    <tr>\n",
       "      <th>35</th>\n",
       "      <td>P_Solicitud Operaciones</td>\n",
       "      <td>0</td>\n",
       "    </tr>\n",
       "    <tr>\n",
       "      <th>19</th>\n",
       "      <td>P_Novedad acceso plataforma Giro Empresarial Web</td>\n",
       "      <td>0</td>\n",
       "    </tr>\n",
       "  </tbody>\n",
       "</table>\n",
       "<p>65 rows × 2 columns</p>\n",
       "</div>"
      ],
      "text/plain": [
       "                                         Diccionario  \\\n",
       "8                             Petición de devolución   \n",
       "9                             Petición de devolución   \n",
       "15                           Petición de información   \n",
       "16                           Petición de Información   \n",
       "42                                   Queja por error   \n",
       "..                                               ...   \n",
       "29                                     Fraude/Estafa   \n",
       "1                   MB - Información general cliente   \n",
       "33                            P_Solicitud Financiera   \n",
       "35                           P_Solicitud Operaciones   \n",
       "19  P_Novedad acceso plataforma Giro Empresarial Web   \n",
       "\n",
       "    Suma de qty_num_operacion  \n",
       "8                       17883  \n",
       "9                       15175  \n",
       "15                       2598  \n",
       "16                       2436  \n",
       "42                       2194  \n",
       "..                        ...  \n",
       "29                          0  \n",
       "1                           0  \n",
       "33                          0  \n",
       "35                          0  \n",
       "19                          0  \n",
       "\n",
       "[65 rows x 2 columns]"
      ]
     },
     "execution_count": 6,
     "metadata": {},
     "output_type": "execute_result"
    }
   ],
   "source": [
    "df[['Diccionario','Suma de qty_num_operacion']].sort_values('Suma de qty_num_operacion',ascending=False)"
   ]
  },
  {
   "cell_type": "code",
   "execution_count": 7,
   "id": "aea03d02-21c7-444c-a46f-15b970973ff5",
   "metadata": {},
   "outputs": [],
   "source": [
    "Subtipo='P_Dev. Orden de Servicio/Cupón'"
   ]
  },
  {
   "cell_type": "code",
   "execution_count": 8,
   "id": "2a15807b-c462-4182-942b-2eaaadb86301",
   "metadata": {},
   "outputs": [
    {
     "name": "stdout",
     "output_type": "stream",
     "text": [
      "P_Dev. Orden de Servicio/Cupón\n"
     ]
    }
   ],
   "source": [
    "# dicc.setdefault('P_Dev. Orden de Servicio/Cupón','Otros'). Otra forma de encararlo\n",
    "\n",
    "try:\n",
    "    Cateogria_tema=dicc[Subtipo]\n",
    "except: \n",
    "    Cateogria_tema=Subtipo\n",
    "    \n",
    "print(Cateogria_tema)"
   ]
  }
 ],
 "metadata": {
  "kernelspec": {
   "display_name": "Python 3",
   "language": "python",
   "name": "python3"
  },
  "language_info": {
   "codemirror_mode": {
    "name": "ipython",
    "version": 3
   },
   "file_extension": ".py",
   "mimetype": "text/x-python",
   "name": "python",
   "nbconvert_exporter": "python",
   "pygments_lexer": "ipython3",
   "version": "3.8.8"
  }
 },
 "nbformat": 4,
 "nbformat_minor": 5
}
