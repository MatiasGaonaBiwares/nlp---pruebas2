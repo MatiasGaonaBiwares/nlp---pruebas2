{
 "cells": [
  {
   "cell_type": "code",
   "execution_count": 1,
   "id": "f8dd7faf-d526-46be-9ed1-1a649a9712a1",
   "metadata": {},
   "outputs": [],
   "source": [
    "# Aplico diccionario a todas las encuestas, despues NLP a las que tienen texto libre"
   ]
  },
  {
   "cell_type": "code",
   "execution_count": null,
   "id": "495ddff4-0a15-473b-8354-8c03bfd89d52",
   "metadata": {},
   "outputs": [],
   "source": [
    "Hiperparametros:\n",
    "    acentos?\n",
    "    epochs\n",
    "    optimizaer_len rate\n",
    "    qty de LSTM\n",
    "    bidireccional o no\n",
    "    dimensión del embedding\n",
    "    lemmatizar si/no\n",
    "    misspelling si/no\n",
    "    max words por frase (20-40)\n",
    "    qty de palabras que va a identificar el modelo. num_wordsmax: (8000)"
   ]
  },
  {
   "cell_type": "code",
   "execution_count": 2,
   "id": "ddff2e8d-d8bb-4eee-a35b-43c9815b016c",
   "metadata": {},
   "outputs": [],
   "source": [
    "# Diccionario"
   ]
  },
  {
   "cell_type": "code",
   "execution_count": 3,
   "id": "04113fe9-b500-411d-9f69-0e13992deb45",
   "metadata": {},
   "outputs": [],
   "source": [
    "import pandas as pd\n",
    "#Aplico un diccionario de temas inicialmente a todas las encuestas.\n",
    "df2=pd.read_excel('Encuestas_Temas_Diccionario.xlsx')"
   ]
  },
  {
   "cell_type": "code",
   "execution_count": 5,
   "id": "10cfd570-f83f-446e-aeb2-9a8d37bca574",
   "metadata": {},
   "outputs": [],
   "source": [
    "#A este grupo, aplicarle el diccionario de la columna 'Diccionario'\n",
    "df_sin_campo_libre=df2[df2['Campo libre']=='no']\n",
    "\n",
    "#A este grupo, aplicarle el NLP según lo que se escribió en la Encuesta en el texto libre\n",
    "df_con_campo_libre=df2[df2['Campo libre']=='si']\n"
   ]
  },
  {
   "cell_type": "code",
   "execution_count": 6,
   "id": "917f3ef3-f4ef-466b-b368-feaa6e7048f6",
   "metadata": {},
   "outputs": [
    {
     "name": "stdout",
     "output_type": "stream",
     "text": [
      "P_Dev. Orden de Servicio/Cupón\n"
     ]
    }
   ],
   "source": [
    "dicc=df2.set_index(['Etiquetas de fila'])['Diccionario'].to_dict()\n",
    "Subtipo='P_Dev. Orden de Servicio/Cupón'\n",
    "try:\n",
    "    Cateogria_tema=dicc[Subtipo]\n",
    "except: \n",
    "    Cateogria_tema=Subtipo\n",
    "    \n",
    "print(Cateogria_tema)"
   ]
  },
  {
   "cell_type": "code",
   "execution_count": 7,
   "id": "ba5d5641-6031-4f67-b093-8412a0ef0c2e",
   "metadata": {},
   "outputs": [],
   "source": [
    "#NLP"
   ]
  },
  {
   "cell_type": "markdown",
   "id": "86efacca-c881-4937-8666-c15fcb4a2a84",
   "metadata": {},
   "source": [
    "# PROCESO"
   ]
  },
  {
   "cell_type": "markdown",
   "id": "777cc88f-ddb6-46a3-b756-7c1e1723c734",
   "metadata": {},
   "source": [
    "\n",
    "1- Preprocesamiento/Limpieza: lower, numeros,caracteres,tildes,etc.\n",
    "\n",
    "2- Categorizar label, tokenizar y sequencializar, definir variables\n",
    "\n",
    "3 - Lemmatization/stemming??\n",
    "\n",
    "4- Definiciones y análisis\n",
    "\n",
    "5- Genero modelo\n"
   ]
  },
  {
   "cell_type": "code",
   "execution_count": 8,
   "id": "21771eba-55d9-434d-bdb6-511ccfd98d9a",
   "metadata": {},
   "outputs": [
    {
     "name": "stderr",
     "output_type": "stream",
     "text": [
      "<ipython-input-8-02c548883d9b>:10: FutureWarning: Passing a negative integer is deprecated in version 1.0 and will not be supported in future version. Instead, use None to not limit the column width.\n",
      "  pd.set_option('display.max_colwidth', -1)\n"
     ]
    }
   ],
   "source": [
    "%matplotlib inline\n",
    "\n",
    "import tensorflow as tf\n",
    "import numpy as np\n",
    "import pandas as pd\n",
    "import matplotlib.pyplot as plt\n",
    "import nlp #Libreria de huggingface de Datasets\n",
    "import random\n",
    "\n",
    "pd.set_option('display.max_colwidth', -1)"
   ]
  },
  {
   "cell_type": "code",
   "execution_count": 62,
   "id": "b7252fc7-a0cb-4ca6-b5f8-75f3a23db74b",
   "metadata": {},
   "outputs": [
    {
     "name": "stderr",
     "output_type": "stream",
     "text": [
      "C:\\Users\\Usuario\\anaconda3\\lib\\site-packages\\openpyxl\\worksheet\\_reader.py:312: UserWarning: Data Validation extension is not supported and will be removed\n",
      "  warn(msg)\n"
     ]
    }
   ],
   "source": [
    "# SELECCIONO EL DATASET\n",
    "\n",
    "df=pd.read_excel('Encuestas_FrasesyTemas_muestra_textolibre.xlsx')\n",
    "df.head()\n",
    "df=df[~df['category'].isnull()]"
   ]
  },
  {
   "cell_type": "code",
   "execution_count": 10,
   "id": "96d00c63-c43b-4400-9e3e-49a9d6bc209e",
   "metadata": {},
   "outputs": [],
   "source": [
    "# Diccionario_Efecty={'santander':'banco','servicio Bancario':'banco',\n",
    "#                     'agua':'servicio','gas':'servicio','datafono':'servicio','wester union','recaudo':'servicio'\n",
    "#                     'sistema':'sieweb','plataforma':'sieweb','sieweblive':'sieweb',\n",
    "#                    'corresponsal bancario':'pap',\n",
    "#                    'tope':'topes' \n",
    "#                     subsidios: FAMILIAS EN ACCION, DAVIPLATA, DEVOLUCION DEL IVA, FIDUAGRARIA, INGRESO SOLIDARIO, JOVENES ACCION\n",
    "#                    Otras plataformas:  bancolombia y davivienda\n",
    "#                     wiki,wikipedia, convenios,\n",
    "#                    \"revisa la wiki\", superhero, baloto, su red, daviplta, servientrega, pasarela de pago\n",
    "#                    dimonex es una empresa asociados a ellos. podría reducirlo a Efecty\n",
    "# #                    }"
   ]
  },
  {
   "cell_type": "markdown",
   "id": "ad26c40d-2050-4324-9378-788da6642460",
   "metadata": {},
   "source": [
    "# Preprocesamientorename"
   ]
  },
  {
   "cell_type": "code",
   "execution_count": 63,
   "id": "44066d55-1936-4653-8ca9-60b71e3fd3b9",
   "metadata": {},
   "outputs": [],
   "source": [
    "category=df.category.unique()\n",
    "category\n",
    "\n",
    "class_to_index=dict((c,i) for i,c in enumerate(category)) #cambiar classes por category por ahi\n",
    "index_to_class=dict((v,k) for k,v in class_to_index.items())\n",
    "\n",
    "df['label']=df['category'].replace(class_to_index)"
   ]
  },
  {
   "cell_type": "code",
   "execution_count": 64,
   "id": "f381ce32-7b51-4c01-af58-383e9299334a",
   "metadata": {},
   "outputs": [],
   "source": [
    "#Limpieza de formato\n",
    "import re\n",
    "df['comentario']=df['comentario'].apply(lambda x: str(x).lower())\n",
    "df['comentario']=df['comentario'].apply(lambda x: re.sub('á','a',str(x)))\n",
    "df['comentario']=df['comentario'].apply(lambda x: re.sub('é','e',str(x)))\n",
    "df['comentario']=df['comentario'].apply(lambda x: re.sub('í','i',str(x)))\n",
    "df['comentario']=df['comentario'].apply(lambda x: re.sub('ó','o',str(x)))\n",
    "df['comentario']=df['comentario'].apply(lambda x: re.sub('ú','u',str(x)))\n",
    "df['comentario']=df['comentario'].apply(lambda x: re.sub(\"\"\"http.*?\\s\"\"\",'',str(x)))\n",
    "df['comentario']=df['comentario'].apply(lambda x: re.sub(\"\"\"[.,]{0,3}|@|[0-9]|\\n|[¡!@#$:)(;¿?&\\-'_%]\"\"\",'',str(x)))"
   ]
  },
  {
   "cell_type": "code",
   "execution_count": 65,
   "id": "f1f30b21-7018-433c-a15a-80ef30910444",
   "metadata": {},
   "outputs": [],
   "source": [
    "stop_words=[]\n",
    "stop_words = (pd.read_excel('Encuestas_TemasyFrases_stop_words_sin_tilde1.xlsx')) \n",
    "stop_words=list(stop_words['stopwords'])\n"
   ]
  },
  {
   "cell_type": "code",
   "execution_count": 66,
   "id": "2bbb6ff2-7ed1-41d9-8dc3-076ceeb82a6c",
   "metadata": {},
   "outputs": [],
   "source": [
    "for f in stop_words:\n",
    "    df['comentario']=df['comentario'].apply(lambda x: re.sub(r'\\s'+f+'\\s',' ',str(x)))\n",
    "    df['comentario']=df['comentario'].apply(lambda x: re.sub(r'^'+f+'\\s',' ',str(x)))"
   ]
  },
  {
   "cell_type": "markdown",
   "id": "bc3f6524-69db-4dda-a7d8-f1c8f4581503",
   "metadata": {},
   "source": [
    "# Genero definiciones"
   ]
  },
  {
   "cell_type": "code",
   "execution_count": 67,
   "id": "c69bf53e-f5b4-4bb1-a59d-23533fa6f047",
   "metadata": {},
   "outputs": [],
   "source": [
    "from sklearn.model_selection import train_test_split\n",
    "\n",
    "X_train, X_test, y_train, y_test =train_test_split(\n",
    "    df.index.values,\n",
    "    df.label.values,\n",
    "    test_size=0.25, #Es el 15% de la muestra es para validación (diferente a test! val sirve para reentrenar automaticamente)\n",
    "    random_state=17, #Se asigna un seed. para que sean siempre el mismo random\n",
    "    stratify=df.label.values #Aca lo que hace, es que asigna las diviciones por los labels values\n",
    ")\n",
    "\n",
    "X_train, X_val, y_train, y_val = train_test_split(X_train, y_train, test_size=0.25, random_state=17,stratify=y_train) # 0.25 x 0.8 = 0.2\n"
   ]
  },
  {
   "cell_type": "code",
   "execution_count": 68,
   "id": "d4958a98-0a09-4e58-9d82-0fc8e98a4c4a",
   "metadata": {},
   "outputs": [
    {
     "data": {
      "text/html": [
       "<div>\n",
       "<style scoped>\n",
       "    .dataframe tbody tr th:only-of-type {\n",
       "        vertical-align: middle;\n",
       "    }\n",
       "\n",
       "    .dataframe tbody tr th {\n",
       "        vertical-align: top;\n",
       "    }\n",
       "\n",
       "    .dataframe thead th {\n",
       "        text-align: right;\n",
       "    }\n",
       "</style>\n",
       "<table border=\"1\" class=\"dataframe\">\n",
       "  <thead>\n",
       "    <tr style=\"text-align: right;\">\n",
       "      <th></th>\n",
       "      <th></th>\n",
       "      <th>Origen</th>\n",
       "      <th>Unnamed: 2</th>\n",
       "      <th>comentario</th>\n",
       "      <th>label</th>\n",
       "    </tr>\n",
       "    <tr>\n",
       "      <th>data_type</th>\n",
       "      <th>category</th>\n",
       "      <th></th>\n",
       "      <th></th>\n",
       "      <th></th>\n",
       "      <th></th>\n",
       "    </tr>\n",
       "  </thead>\n",
       "  <tbody>\n",
       "    <tr>\n",
       "      <th rowspan=\"9\" valign=\"top\">test</th>\n",
       "      <th>Capacitación y atención de PAPs</th>\n",
       "      <td>19</td>\n",
       "      <td>0</td>\n",
       "      <td>19</td>\n",
       "      <td>19</td>\n",
       "    </tr>\n",
       "    <tr>\n",
       "      <th>Convenios y franquicias</th>\n",
       "      <td>29</td>\n",
       "      <td>0</td>\n",
       "      <td>29</td>\n",
       "      <td>29</td>\n",
       "    </tr>\n",
       "    <tr>\n",
       "      <th>Marketing/publicidad</th>\n",
       "      <td>11</td>\n",
       "      <td>0</td>\n",
       "      <td>11</td>\n",
       "      <td>11</td>\n",
       "    </tr>\n",
       "    <tr>\n",
       "      <th>Otros</th>\n",
       "      <td>13</td>\n",
       "      <td>0</td>\n",
       "      <td>13</td>\n",
       "      <td>13</td>\n",
       "    </tr>\n",
       "    <tr>\n",
       "      <th>Satisfacción</th>\n",
       "      <td>16</td>\n",
       "      <td>0</td>\n",
       "      <td>16</td>\n",
       "      <td>16</td>\n",
       "    </tr>\n",
       "    <tr>\n",
       "      <th>Sieweb</th>\n",
       "      <td>36</td>\n",
       "      <td>0</td>\n",
       "      <td>36</td>\n",
       "      <td>36</td>\n",
       "    </tr>\n",
       "    <tr>\n",
       "      <th>Soporte a PAPs</th>\n",
       "      <td>52</td>\n",
       "      <td>0</td>\n",
       "      <td>52</td>\n",
       "      <td>52</td>\n",
       "    </tr>\n",
       "    <tr>\n",
       "      <th>Topes</th>\n",
       "      <td>18</td>\n",
       "      <td>0</td>\n",
       "      <td>18</td>\n",
       "      <td>18</td>\n",
       "    </tr>\n",
       "    <tr>\n",
       "      <th>sin comentarios</th>\n",
       "      <td>54</td>\n",
       "      <td>0</td>\n",
       "      <td>54</td>\n",
       "      <td>54</td>\n",
       "    </tr>\n",
       "    <tr>\n",
       "      <th rowspan=\"9\" valign=\"top\">train</th>\n",
       "      <th>Capacitación y atención de PAPs</th>\n",
       "      <td>41</td>\n",
       "      <td>0</td>\n",
       "      <td>41</td>\n",
       "      <td>41</td>\n",
       "    </tr>\n",
       "    <tr>\n",
       "      <th>Convenios y franquicias</th>\n",
       "      <td>67</td>\n",
       "      <td>0</td>\n",
       "      <td>67</td>\n",
       "      <td>67</td>\n",
       "    </tr>\n",
       "    <tr>\n",
       "      <th>Marketing/publicidad</th>\n",
       "      <td>25</td>\n",
       "      <td>0</td>\n",
       "      <td>25</td>\n",
       "      <td>25</td>\n",
       "    </tr>\n",
       "    <tr>\n",
       "      <th>Otros</th>\n",
       "      <td>30</td>\n",
       "      <td>0</td>\n",
       "      <td>30</td>\n",
       "      <td>30</td>\n",
       "    </tr>\n",
       "    <tr>\n",
       "      <th>Satisfacción</th>\n",
       "      <td>37</td>\n",
       "      <td>0</td>\n",
       "      <td>37</td>\n",
       "      <td>37</td>\n",
       "    </tr>\n",
       "    <tr>\n",
       "      <th>Sieweb</th>\n",
       "      <td>81</td>\n",
       "      <td>0</td>\n",
       "      <td>81</td>\n",
       "      <td>81</td>\n",
       "    </tr>\n",
       "    <tr>\n",
       "      <th>Soporte a PAPs</th>\n",
       "      <td>116</td>\n",
       "      <td>0</td>\n",
       "      <td>116</td>\n",
       "      <td>116</td>\n",
       "    </tr>\n",
       "    <tr>\n",
       "      <th>Topes</th>\n",
       "      <td>40</td>\n",
       "      <td>0</td>\n",
       "      <td>40</td>\n",
       "      <td>40</td>\n",
       "    </tr>\n",
       "    <tr>\n",
       "      <th>sin comentarios</th>\n",
       "      <td>121</td>\n",
       "      <td>0</td>\n",
       "      <td>121</td>\n",
       "      <td>121</td>\n",
       "    </tr>\n",
       "    <tr>\n",
       "      <th rowspan=\"9\" valign=\"top\">val</th>\n",
       "      <th>Capacitación y atención de PAPs</th>\n",
       "      <td>14</td>\n",
       "      <td>0</td>\n",
       "      <td>14</td>\n",
       "      <td>14</td>\n",
       "    </tr>\n",
       "    <tr>\n",
       "      <th>Convenios y franquicias</th>\n",
       "      <td>22</td>\n",
       "      <td>0</td>\n",
       "      <td>22</td>\n",
       "      <td>22</td>\n",
       "    </tr>\n",
       "    <tr>\n",
       "      <th>Marketing/publicidad</th>\n",
       "      <td>9</td>\n",
       "      <td>0</td>\n",
       "      <td>9</td>\n",
       "      <td>9</td>\n",
       "    </tr>\n",
       "    <tr>\n",
       "      <th>Otros</th>\n",
       "      <td>10</td>\n",
       "      <td>0</td>\n",
       "      <td>10</td>\n",
       "      <td>10</td>\n",
       "    </tr>\n",
       "    <tr>\n",
       "      <th>Satisfacción</th>\n",
       "      <td>12</td>\n",
       "      <td>0</td>\n",
       "      <td>12</td>\n",
       "      <td>12</td>\n",
       "    </tr>\n",
       "    <tr>\n",
       "      <th>Sieweb</th>\n",
       "      <td>27</td>\n",
       "      <td>0</td>\n",
       "      <td>27</td>\n",
       "      <td>27</td>\n",
       "    </tr>\n",
       "    <tr>\n",
       "      <th>Soporte a PAPs</th>\n",
       "      <td>38</td>\n",
       "      <td>0</td>\n",
       "      <td>38</td>\n",
       "      <td>38</td>\n",
       "    </tr>\n",
       "    <tr>\n",
       "      <th>Topes</th>\n",
       "      <td>14</td>\n",
       "      <td>0</td>\n",
       "      <td>14</td>\n",
       "      <td>14</td>\n",
       "    </tr>\n",
       "    <tr>\n",
       "      <th>sin comentarios</th>\n",
       "      <td>40</td>\n",
       "      <td>0</td>\n",
       "      <td>40</td>\n",
       "      <td>40</td>\n",
       "    </tr>\n",
       "  </tbody>\n",
       "</table>\n",
       "</div>"
      ],
      "text/plain": [
       "                                           Origen  Unnamed: 2  comentario  \\\n",
       "data_type category                                                          \n",
       "test      Capacitación y atención de PAPs  19      0           19           \n",
       "          Convenios y franquicias          29      0           29           \n",
       "          Marketing/publicidad             11      0           11           \n",
       "          Otros                            13      0           13           \n",
       "          Satisfacción                     16      0           16           \n",
       "          Sieweb                           36      0           36           \n",
       "          Soporte a PAPs                   52      0           52           \n",
       "          Topes                            18      0           18           \n",
       "          sin comentarios                  54      0           54           \n",
       "train     Capacitación y atención de PAPs  41      0           41           \n",
       "          Convenios y franquicias          67      0           67           \n",
       "          Marketing/publicidad             25      0           25           \n",
       "          Otros                            30      0           30           \n",
       "          Satisfacción                     37      0           37           \n",
       "          Sieweb                           81      0           81           \n",
       "          Soporte a PAPs                   116     0           116          \n",
       "          Topes                            40      0           40           \n",
       "          sin comentarios                  121     0           121          \n",
       "val       Capacitación y atención de PAPs  14      0           14           \n",
       "          Convenios y franquicias          22      0           22           \n",
       "          Marketing/publicidad             9       0           9            \n",
       "          Otros                            10      0           10           \n",
       "          Satisfacción                     12      0           12           \n",
       "          Sieweb                           27      0           27           \n",
       "          Soporte a PAPs                   38      0           38           \n",
       "          Topes                            14      0           14           \n",
       "          sin comentarios                  40      0           40           \n",
       "\n",
       "                                           label  \n",
       "data_type category                                \n",
       "test      Capacitación y atención de PAPs  19     \n",
       "          Convenios y franquicias          29     \n",
       "          Marketing/publicidad             11     \n",
       "          Otros                            13     \n",
       "          Satisfacción                     16     \n",
       "          Sieweb                           36     \n",
       "          Soporte a PAPs                   52     \n",
       "          Topes                            18     \n",
       "          sin comentarios                  54     \n",
       "train     Capacitación y atención de PAPs  41     \n",
       "          Convenios y franquicias          67     \n",
       "          Marketing/publicidad             25     \n",
       "          Otros                            30     \n",
       "          Satisfacción                     37     \n",
       "          Sieweb                           81     \n",
       "          Soporte a PAPs                   116    \n",
       "          Topes                            40     \n",
       "          sin comentarios                  121    \n",
       "val       Capacitación y atención de PAPs  14     \n",
       "          Convenios y franquicias          22     \n",
       "          Marketing/publicidad             9      \n",
       "          Otros                            10     \n",
       "          Satisfacción                     12     \n",
       "          Sieweb                           27     \n",
       "          Soporte a PAPs                   38     \n",
       "          Topes                            14     \n",
       "          sin comentarios                  40     "
      ]
     },
     "execution_count": 68,
     "metadata": {},
     "output_type": "execute_result"
    }
   ],
   "source": [
    "#Cantidad de categorias definidas\n",
    "qty_label=len(df.label.unique())\n",
    "\n",
    "\n",
    "# Al Dataframe le agrego la marca a cada index si es val, train o test\n",
    "df['data_type']='not_set'\n",
    "\n",
    "df.loc[X_train,'data_type']='train'\n",
    "df.loc[X_val,'data_type']='val'\n",
    "df.loc[X_test,'data_type']='test'\n",
    "\n",
    "df.groupby(['data_type','category']).count()"
   ]
  },
  {
   "cell_type": "code",
   "execution_count": 69,
   "id": "a46cb283-63a9-47d6-ad52-e521151ffacc",
   "metadata": {},
   "outputs": [],
   "source": [
    "#Definiciones a futuro útiles\n",
    "\n",
    "train=df.data_type=='train'\n",
    "val=df.data_type=='val'\n",
    "test=df.data_type=='test'\n",
    "\n",
    "all_comentarios=np.array(df.comentario)\n",
    "label=df.label.unique()"
   ]
  },
  {
   "cell_type": "code",
   "execution_count": 70,
   "id": "e2c66834-b074-4ee3-b7ac-274dbcc22e1e",
   "metadata": {},
   "outputs": [],
   "source": [
    "#MISPELL\n",
    "\n",
    "from autocorrect import Speller\n",
    "spell = Speller(lang='es')\n",
    "\n",
    "# diccionario propio de efecty: efecty, siwewb, TUCUENTA, Portalvirtual,trilla\n",
    "# spell('prevalidar')\n",
    "\n",
    "#LEMMATIZACION\n",
    "import spacy\n",
    "nlp = spacy.load('es_core_news_lg')"
   ]
  },
  {
   "cell_type": "code",
   "execution_count": 145,
   "id": "dc7f5fd6-b60f-4820-9353-b7b8e3be3692",
   "metadata": {},
   "outputs": [
    {
     "name": "stderr",
     "output_type": "stream",
     "text": [
      "<ipython-input-145-ec1ce21fa373>:9: SettingWithCopyWarning: \n",
      "A value is trying to be set on a copy of a slice from a DataFrame\n",
      "\n",
      "See the caveats in the documentation: https://pandas.pydata.org/pandas-docs/stable/user_guide/indexing.html#returning-a-view-versus-a-copy\n",
      "  df['comentario'][i]=re.sub(\"\"\"'|,|[][]\"\"\",'',str(aux2))\n",
      "<ipython-input-145-ec1ce21fa373>:13: SettingWithCopyWarning: \n",
      "A value is trying to be set on a copy of a slice from a DataFrame\n",
      "\n",
      "See the caveats in the documentation: https://pandas.pydata.org/pandas-docs/stable/user_guide/indexing.html#returning-a-view-versus-a-copy\n",
      "  df['comentario'][i]=re.sub(\"\"\"'|,|[][]\"\"\",'',str(aux))\n"
     ]
    }
   ],
   "source": [
    "#Lemmatizar\n",
    "\n",
    "for i in range(0,len(df['comentario'])):\n",
    "    try:\n",
    "        doc = nlp(str(df['comentario'][i]))\n",
    "        aux2=[]\n",
    "        for j in range(0,len(doc)):\n",
    "            aux2.append(spell(str(doc[j])))\n",
    "        df['comentario'][i]=re.sub(\"\"\"'|,|[][]\"\"\",'',str(aux2))\n",
    "        doc2 = nlp(df['comentario'][i])\n",
    "        for k in range(0,len(doc2)):\n",
    "            aux = [tok.lemma_.lower() for tok in doc]\n",
    "            df['comentario'][i]=re.sub(\"\"\"'|,|[][]\"\"\",'',str(aux))\n",
    "    except:\n",
    "        pass"
   ]
  },
  {
   "cell_type": "markdown",
   "id": "513af854-8bc5-48bb-9bc6-fd7f109452a9",
   "metadata": {},
   "source": [
    "# Tokenizar"
   ]
  },
  {
   "cell_type": "code",
   "execution_count": null,
   "id": "5f017ab7-7bbf-4539-9f6b-4958235e8632",
   "metadata": {},
   "outputs": [],
   "source": [
    "#Entender cuantas palabras tengo que se repiten 1 vez,2 veces y más de 3 veces"
   ]
  },
  {
   "cell_type": "code",
   "execution_count": 147,
   "id": "f2f6b2e5-68b8-448f-986e-1959d1efb7ec",
   "metadata": {},
   "outputs": [],
   "source": [
    "from tensorflow.keras.preprocessing.text import Tokenizer"
   ]
  },
  {
   "cell_type": "code",
   "execution_count": 148,
   "id": "ae1ac021-9421-4f76-9d3c-2867141deb5e",
   "metadata": {},
   "outputs": [],
   "source": [
    "comentario_train=df[df.data_type=='train']['comentario']\n",
    "\n",
    "num_wordsmax=8000\n",
    "tokenizer=Tokenizer(num_words=num_wordsmax,oov_token='<UNK>') #Si la palabra no esta entre las 10.000 mas usadas, se guarda como <UNK> y su propio seq\n",
    "tokenizer.fit_on_texts(comentario_train)"
   ]
  },
  {
   "cell_type": "code",
   "execution_count": 149,
   "id": "c57bdee0-cbf3-41fd-8c3a-5232202aa09d",
   "metadata": {},
   "outputs": [],
   "source": [
    "# aplicar Diccionario_Efecty a todas las palabras"
   ]
  },
  {
   "cell_type": "code",
   "execution_count": 150,
   "id": "d8ec6d5a-8df8-4d74-b73f-3c75d438a0b2",
   "metadata": {},
   "outputs": [
    {
     "name": "stdout",
     "output_type": "stream",
     "text": [
      "1724\n",
      "            palabras\n",
      "frecuencia          \n",
      "1           990     \n",
      "2           249     \n",
      "3           129     \n",
      "4           72      \n",
      "5           46      \n",
      "6           30      \n",
      "7           24      \n",
      "8           26      \n",
      "9           19      \n",
      "10          13      \n",
      "11          13      \n",
      "12          11      \n",
      "13          14      \n",
      "14          8       \n",
      "15          6       \n",
      "     palabras  frecuencia\n",
      "41   mas       101       \n",
      "106  servicio  87        \n",
      "78   punto     82        \n",
      "511  ninguno   81        \n",
      "159  cuando    57        \n",
      "204  mejorar   54        \n",
      "183  hacer     54        \n",
      "193  poder     51        \n",
      "64   cliente   49        \n",
      "145  deber     47        \n",
      "17   sistema   46        \n",
      "187  tiempo    44        \n",
      "90   momento   43        \n",
      "42   él        41        \n",
      "101  efecty    40        \n"
     ]
    }
   ],
   "source": [
    "#ANALIZO CUANTAS VECES SE REPITEN LAS PALABRAS, DISTRIBUCIÓN DE LAS PALABRAS\n",
    "\n",
    "\n",
    "palaras=pd.DataFrame(tokenizer.word_docs.items(), columns=['palabras', 'frecuencia']).sort_values(by='frecuencia',ascending=False)\n",
    "frecuencia_palabras=palaras.groupby('frecuencia').count().head(15)\n",
    "cantidad_de_palabras=palaras['palabras'].count()\n",
    "\n",
    "print(int(cantidad_de_palabras))\n",
    "print(frecuencia_palabras)\n",
    "print(palaras.head(15))"
   ]
  },
  {
   "cell_type": "code",
   "execution_count": 151,
   "id": "dfe8dbeb-8733-41f8-87f1-8ee5a8f8fd07",
   "metadata": {},
   "outputs": [
    {
     "name": "stdout",
     "output_type": "stream",
     "text": [
      "['call']\n",
      "[[1]]\n"
     ]
    }
   ],
   "source": [
    "#Encontrar un token o una palabra\n",
    "print(tokenizer.sequences_to_texts([[500]]))\n",
    "print(tokenizer.texts_to_sequences(['thanks']))"
   ]
  },
  {
   "cell_type": "markdown",
   "id": "e141d278-c9ec-4264-9685-80cc0e751a7e",
   "metadata": {},
   "source": [
    "- Padding. Determinar la cantidad de palabras por frase\n",
    "- Sequencial. Pasar de palabra a numero"
   ]
  },
  {
   "cell_type": "code",
   "execution_count": 152,
   "id": "1da572cc-442e-4c81-a3d8-402dd576410c",
   "metadata": {},
   "outputs": [],
   "source": [
    "lengh=[len(t.split(' ')) for t in all_comentarios]"
   ]
  },
  {
   "cell_type": "code",
   "execution_count": 153,
   "id": "83320e01-d1f7-4074-b776-f46cb7acf36c",
   "metadata": {},
   "outputs": [
    {
     "data": {
      "image/png": "[encoded data removed]",
      "text/plain": [
       "<Figure size 1152x288 with 1 Axes>"
      ]
     },
     "metadata": {
      "needs_background": "light"
     },
     "output_type": "display_data"
    }
   ],
   "source": [
    "plt.figure(figsize=[16,4])\n",
    "plt.hist(lengh, bins=80)\n",
    "plt.ylabel('qty words',fontsize=15)\n",
    "plt.title('Cantidad de palabras por comentario\\n',fontsize=15)\n",
    "cont=np.linspace(0, 600,31)\n",
    "plt.xticks(ticks=cont)\n",
    "plt.show()"
   ]
  },
  {
   "cell_type": "code",
   "execution_count": 154,
   "id": "1dc49cc9-21fd-4f93-94a9-2391afd1594d",
   "metadata": {},
   "outputs": [],
   "source": [
    "maxlen=20 #Lo defino yo en base al ultimo grafico\n",
    "from tensorflow.keras.preprocessing.sequence import pad_sequences"
   ]
  },
  {
   "cell_type": "code",
   "execution_count": 155,
   "id": "51df63dd-afae-4c37-8229-a208a3f481df",
   "metadata": {},
   "outputs": [],
   "source": [
    "#Ejemplo de un comentario tokenizado\n",
    "df['com_tokenizado']=0\n",
    "df['com_padded']=0\n",
    "token_all=tokenizer.texts_to_sequences(all_comentarios)\n",
    "# for i in range(0,len(df.index)): #OPTIMIZARLO CON INDEX? TARDA MUCHO\n",
    "#     token=tokenizer.texts_to_sequences(all_comentarios[i])\n",
    "#     df['com_tokenizado'][i]=str(token)\n",
    "#     df['com_padded'][i]=str(pad_sequences(token_all,padding='post',maxlen=maxlen)[0])\n"
   ]
  },
  {
   "cell_type": "markdown",
   "id": "3ac623d6-5457-4bd1-ace2-7a1f8b77b5e0",
   "metadata": {},
   "source": [
    "# PREPARING LABELS"
   ]
  },
  {
   "cell_type": "code",
   "execution_count": 156,
   "id": "2a2d7d2f-1f78-4c3c-9355-68d5f7bfa261",
   "metadata": {},
   "outputs": [
    {
     "data": {
      "image/png": "[encoded data removed]",
      "text/plain": [
       "<Figure size 432x288 with 1 Axes>"
      ]
     },
     "metadata": {
      "needs_background": "light"
     },
     "output_type": "display_data"
    }
   ],
   "source": [
    "plt.hist(df.category,bins=11)\n",
    "plt.show()"
   ]
  },
  {
   "cell_type": "markdown",
   "id": "cf4e27af-c666-418f-9921-d0651b1b921c",
   "metadata": {},
   "source": [
    "# Genero el modelo"
   ]
  },
  {
   "cell_type": "markdown",
   "id": "d8e193e4-a205-4bb6-a53a-46f94f7a7161",
   "metadata": {},
   "source": [
    "Hyperparametros:\n",
    "- dimension de embedding\n",
    "- cantidad de redes\n",
    "- canitdad de neuronas por redes\n",
    "- loss/optimizer\n",
    "- learning rate\n",
    "- epoch\n",
    "    "
   ]
  },
  {
   "cell_type": "code",
   "execution_count": 157,
   "id": "612239c0-6758-4740-aa23-c7a88be8f385",
   "metadata": {},
   "outputs": [],
   "source": [
    "# Se puede optar por embedding o One Hot Encoding (que cada palabra sea un vector de 0s con 1 uno en la unique word)\n",
    "# Embedding sirve para cualquier idioma! porque trabaja con tokens y sus relaciones en los inputs, no con texto"
   ]
  },
  {
   "cell_type": "code",
   "execution_count": 161,
   "id": "d87d3bf1-d80e-4148-88be-c770ac652102",
   "metadata": {},
   "outputs": [],
   "source": [
    "# Embedding: OBJETIVO, ES QUE LA RED LSTM CONSIDERE PALABRAS SEMEJANTES, COMO TALES\n",
    "#lo que hace es generar 1 vector de 0s con solo 1 uno para cada unique word, y el output es el mismo vector, pero algunos 0s cambian de valor!! \n",
    "# En el entrenamiento, lo que se hace es que las mismas palabras tengan pesos semejantes segun contexto! Se entrena de forma supervisada, enseñandole que el output, es la frase.\n",
    "\n",
    "model = tf.keras.models.Sequential([\n",
    "        tf.keras.layers.Embedding(input_dim=10000,output_dim=8,input_length=maxlen),\n",
    "    #10.000 unique words. 16 output interno. Cada palabra va a estar representado con un vector de 16 dimensiones\n",
    "    #output_dim (hyperparameter):\n",
    "        #The larger vocabulary you have you want better representation of it - make the layer larger.\n",
    "        #Si son pocas palabras, y la dim de output es muy grande, seguro hay overfitting.\n",
    "        #Si el input es muy variado, quiero comprimir mas (el)\n",
    "        tf.keras.layers.Bidirectional(tf.keras.layers.LSTM(20,return_sequences=True)), #Bidirecional significa que el contexto puede provenir de la derecha o izq del texto. Son 2 LSTM pero en los 2 ordenes!!\n",
    "        tf.keras.layers.Bidirectional(tf.keras.layers.LSTM(20)),\n",
    "        tf.keras.layers.Dense(qty_label,activation='softmax') #Output, 6 dimensiones (triste, happy, etc.)\n",
    "])\n",
    "\n",
    "model.compile(\n",
    "    loss='sparse_categorical_crossentropy',  #Se define el error buscado. 'sparse_categorical_crossentropy' se usa para problemas de clasificacion\n",
    "    optimizer='adam', #Se encarga de ajustar la velocidad, tiempos, para llegar al punto más optimo, y tener la mayor accuracy (precisión). Ojo con overfitting aca\n",
    "    metrics='accuracy'\n",
    ") #loss y optimazer, usan el concepto de Gradient Descent (GD), que es cuan rapido quiero llegar al optimazer\n",
    "\n",
    "model.optimizer.learning_rate=0.001\n",
    "\n",
    "\n",
    "#LEARNING RATE: La velocidad en la que quiero que el modelo aprenda. Comparo: error minimo vs Epoch. (creo que se modifica en el optimzaer)\n",
    "# Si voy muy lento, nunca voy a llegar al error mínimo y hay riesgo de overfitting.\n",
    "# Si voy muy rapido, los cambios de estado serán tan grandes que nunca voy a llegar al error mínimo. riesgo underfitting\n",
    "\n",
    "# POSSIBLE LOSSES: is used to find error or deviation in the learning process.\n",
    "# Es la diferencia entre lo predicto y lo real en cada train. predijo 0,7 y era 0. tiene que ir modificando los \n",
    "# pesos de las neuronas para que la próxima vez esté mas cerca de 0\n",
    "\n",
    "    # mean_squared_error (regression_loss_funcion. va aintentar disminuir el error de la distancia entre predicción-real)\n",
    "    # mean_absolute_error (regression_loss_funcion)\n",
    "    # mean_absolute_percentage_error (regression_loss_funcion.\n",
    "    # mean_squared_logarithmic_error (regression_loss_funcion.)\n",
    "    # squared_hinge\n",
    "    # hinge\n",
    "    # categorical_hinge\n",
    "    # logcosh\n",
    "    # huber_loss\n",
    "    # categorical_crossentropy\n",
    "    # sparse_categorical_crossentropy: es lo mas comun para clasificacion de numeros enteros categricos\n",
    "    # binary_crossentropy\n",
    "    # kullback_leibler_divergence\n",
    "    # poisson\n",
    "    # cosine_proximity\n",
    "    # is_categorical_crossentropy\n",
    "    \n",
    "    \n",
    "# POSSIBLE OPTIMIZER:important process which optimize the input weights by comparing the prediction\n",
    "# and the loss function\n",
    "    # SGD \n",
    "    # RMSprop \n",
    "    # Adagrad \n",
    "    # Adadelta \n",
    "    # Adam. Es la mas comun\n",
    "    # Adamax \n",
    "    # Nadam \n",
    "\n",
    "\n",
    "# POSSIBLE METRICS: is used to evaluate the performance of your model. It is similar to loss function,\n",
    "# but not used in training process\n",
    "    # accuracy\n",
    "    # binary_accuracy\n",
    "    # categorical_accuracy\n",
    "    # sparse_categorical_accuracy\n",
    "    # top_k_categorical_accuracy\n",
    "    # sparse_top_k_categorical_accuracy\n",
    "    # cosine_proximity\n",
    "    # clone_metric"
   ]
  },
  {
   "cell_type": "code",
   "execution_count": 162,
   "id": "73944445-9155-4a08-9768-ebace7f04c96",
   "metadata": {},
   "outputs": [
    {
     "name": "stdout",
     "output_type": "stream",
     "text": [
      "Model: \"sequential_4\"\n",
      "_________________________________________________________________\n",
      "Layer (type)                 Output Shape              Param #   \n",
      "=================================================================\n",
      "embedding_4 (Embedding)      (None, 20, 8)             80000     \n",
      "_________________________________________________________________\n",
      "bidirectional_8 (Bidirection (None, 20, 40)            4640      \n",
      "_________________________________________________________________\n",
      "bidirectional_9 (Bidirection (None, 40)                9760      \n",
      "_________________________________________________________________\n",
      "dense_4 (Dense)              (None, 9)                 369       \n",
      "=================================================================\n",
      "Total params: 94,769\n",
      "Trainable params: 94,769\n",
      "Non-trainable params: 0\n",
      "_________________________________________________________________\n"
     ]
    }
   ],
   "source": [
    "model.summary()"
   ]
  },
  {
   "cell_type": "code",
   "execution_count": 163,
   "id": "674d6f17-49be-48b6-becd-48d4922f3341",
   "metadata": {},
   "outputs": [],
   "source": [
    "def get_sequences(tokenizer,comentario):\n",
    "    sequences=tokenizer.texts_to_sequences(comentario)\n",
    "    padded=pad_sequences(sequences,truncating='post',padding='post',maxlen=maxlen) #Rellena con 0s para que todos los tweets tengan mismo largo\n",
    "    return padded"
   ]
  },
  {
   "cell_type": "code",
   "execution_count": 164,
   "id": "5e05445c-fc78-4d81-a059-371bc923111b",
   "metadata": {},
   "outputs": [],
   "source": [
    "label_train=df[df.data_type=='train']['label']\n",
    "label_val=df[df.data_type=='val']['label']\n",
    "\n",
    "\n",
    "sequences_train=tokenizer.texts_to_sequences(comentario_train)\n",
    "padded_train_seq=pad_sequences(sequences_train,truncating='post',padding='post',maxlen=maxlen)\n",
    "\n",
    "comentario_val=df[df.data_type=='val']['comentario']\n",
    "sequences_val=tokenizer.texts_to_sequences(comentario_val)\n",
    "padded_val_seq=pad_sequences(sequences_val,truncating='post',padding='post',maxlen=maxlen)"
   ]
  },
  {
   "cell_type": "code",
   "execution_count": 168,
   "id": "5bf56f49-094e-422f-8cc6-db2aa9d7a0fe",
   "metadata": {},
   "outputs": [
    {
     "name": "stdout",
     "output_type": "stream",
     "text": [
      "Epoch 1/7\n",
      "18/18 [==============================] - 0s 19ms/step - loss: 1.4990 - accuracy: 0.4211 - val_loss: 1.5265 - val_accuracy: 0.4140\n",
      "Epoch 2/7\n",
      "18/18 [==============================] - 0s 16ms/step - loss: 1.4426 - accuracy: 0.4319 - val_loss: 1.5071 - val_accuracy: 0.4194\n",
      "Epoch 3/7\n",
      "18/18 [==============================] - 0s 16ms/step - loss: 1.3665 - accuracy: 0.4875 - val_loss: 1.4881 - val_accuracy: 0.4624\n",
      "Epoch 4/7\n",
      "18/18 [==============================] - 0s 16ms/step - loss: 1.2214 - accuracy: 0.5717 - val_loss: 1.4769 - val_accuracy: 0.4785\n",
      "Epoch 5/7\n",
      "18/18 [==============================] - 0s 17ms/step - loss: 1.1013 - accuracy: 0.6075 - val_loss: 1.5101 - val_accuracy: 0.5054\n",
      "Epoch 6/7\n",
      "18/18 [==============================] - 0s 16ms/step - loss: 0.9709 - accuracy: 0.6900 - val_loss: 1.5697 - val_accuracy: 0.4839\n",
      "Epoch 7/7\n",
      "18/18 [==============================] - 0s 16ms/step - loss: 0.9514 - accuracy: 0.6828 - val_loss: 1.5282 - val_accuracy: 0.5161\n"
     ]
    }
   ],
   "source": [
    "# model.fit(X, y, epochs = , batch_size = , validation_data = (x_val, y_val))\n",
    "h=model.fit(padded_train_seq,np.array(label_train),validation_data=(padded_val_seq,np.array(list(label_val))),\n",
    "    epochs=7)\n",
    "#     callbacks=[tf.keras.callbacks.EarlyStopping(monitor='val_accuracy',patience=2)]) #Si al segundo epoch el modelo no ve mejoras en accuracy, frena"
   ]
  },
  {
   "cell_type": "code",
   "execution_count": 169,
   "id": "50a8e563-567b-4d9a-b774-8c8254899c85",
   "metadata": {},
   "outputs": [],
   "source": [
    "\n",
    "def show_history(h):\n",
    "    epochs_trained = len(h.history['loss'])\n",
    "    plt.figure(figsize=(16, 6))\n",
    "\n",
    "    plt.subplot(1, 2, 1)\n",
    "    plt.plot(range(0, epochs_trained), h.history.get('accuracy'), label='Training')\n",
    "    plt.plot(range(0, epochs_trained), h.history.get('val_accuracy'), label='Validation')\n",
    "    plt.ylim([0., 1.])\n",
    "    plt.xlabel('Epochs')\n",
    "    plt.ylabel('Accuracy')\n",
    "    plt.legend()\n",
    "\n",
    "    plt.subplot(1, 2, 2)\n",
    "    plt.plot(range(0, epochs_trained), h.history.get('loss'), label='Training')\n",
    "    plt.plot(range(0, epochs_trained), h.history.get('val_loss'), label='Validation')\n",
    "    plt.xlabel('Epochs')\n",
    "    plt.ylabel('Loss')\n",
    "    plt.legend()\n",
    "    plt.show()\n"
   ]
  },
  {
   "cell_type": "code",
   "execution_count": 170,
   "id": "39c2e293-7277-4247-ad64-a3a032534fe1",
   "metadata": {},
   "outputs": [
    {
     "data": {
      "image/png": "[encoded data removed]",
      "text/plain": [
       "<Figure size 1152x432 with 2 Axes>"
      ]
     },
     "metadata": {
      "needs_background": "light"
     },
     "output_type": "display_data"
    }
   ],
   "source": [
    "show_history(h)\n",
    "\n",
    "#Cuando se el train mejora (cae)el loss, pero el loss validation no, sino que sube, eso es un claro Overfitting. \n",
    "# Empieza a replicar a la perfección el train"
   ]
  },
  {
   "cell_type": "markdown",
   "id": "28aae99e-1e9f-437f-94c4-f44f08951902",
   "metadata": {},
   "source": [
    "TESTEO CON OTRA MUESTRA REAL"
   ]
  },
  {
   "cell_type": "code",
   "execution_count": 171,
   "id": "669bffab-c0e6-4607-a947-cd8db3f0c487",
   "metadata": {},
   "outputs": [],
   "source": [
    "comentario_test=df[df.data_type=='test']['comentario']\n",
    "sequences_test=tokenizer.texts_to_sequences(comentario_test)\n",
    "padded_test_seq=pad_sequences(sequences_test,truncating='post',padding='post',maxlen=maxlen)"
   ]
  },
  {
   "cell_type": "code",
   "execution_count": 172,
   "id": "4985ddbc-d752-4a90-b4f4-ab81b08002bb",
   "metadata": {},
   "outputs": [
    {
     "name": "stdout",
     "output_type": "stream",
     "text": [
      "8/8 [==============================] - 1s 5ms/step - loss: 3.8685 - accuracy: 0.1169\n"
     ]
    }
   ],
   "source": [
    "_=model.evaluate(np.array(padded_test_seq),np.array(y_test))"
   ]
  },
  {
   "cell_type": "code",
   "execution_count": 173,
   "id": "3ae8eb21-f49b-4551-a313-e227113e3ca4",
   "metadata": {},
   "outputs": [],
   "source": [
    "df_test=df[df.data_type=='test'].reset_index()"
   ]
  },
  {
   "cell_type": "code",
   "execution_count": 191,
   "id": "23e97137-56fb-46d6-8587-821f148e22ec",
   "metadata": {},
   "outputs": [
    {
     "name": "stdout",
     "output_type": "stream",
     "text": [
      "Sentence:\"mejorar plataforma recargo adquirir paquete movistar volver lento plataforma recargo hasta    minuto perdido\"\n",
      "Category:          \"Sieweb\"\n",
      "Predicted Category \"Soporte a PAPs\"\n",
      "\n",
      "\n",
      "Ponderación de los labels sobre la frase:\n",
      "Capacitación y atención de PAPs [0.02] \n",
      "Convenios y franquicias  [0.32] \n",
      "Marketing/publicidad [0.01]\n",
      "Otros [0.02]\n",
      "Satisfacción [0.0]\n",
      "Soporte a PAPs [0.51]\n",
      "Topes [0.03]\n",
      "Sieweb [0.08]\n"
     ]
    }
   ],
   "source": [
    "#Pruebas de testeo sobre comentarios random\n",
    "\n",
    "rand=random.randint(0,len(df_test)-1) #genero numero random\n",
    "\n",
    "p=model.predict(np.expand_dims(padded_test_seq[rand],axis=0))[0]\n",
    "pred_class=index_to_class[np.argmax(p).astype('uint8')] #lo paso a comentario, no numero\n",
    "\n",
    "print('Sentence:\"{}\"\\nCategory:          \"{}\"\\nPredicted Category \"{}\"\\n\\n'.format(\n",
    "    np.array(df_test['comentario'])[rand],\n",
    "    (df_test['category'][rand]),\n",
    "    pred_class))\n",
    "\n",
    "\n",
    "#PARA 2 CATEGROIAS\n",
    "# print('Ponderación de los labels sobre la frase:\\n{} {} \\n{} {}'.format(\n",
    "#     category[0],[round(p[0],2)],\n",
    "#     category[1],[round(p[1],2)]))\n",
    "\n",
    "#PARA 3 CATEGROIAS\n",
    "print('Ponderación de los labels sobre la frase:\\n{} {} \\n{} {} \\n{} {}\\n{} {}\\n{} {}\\n{} {}\\n{} {}\\n{} {}'.format(\n",
    "    category[0],[round(p[0],2)],\n",
    "    category[1],[round(p[1],2)],\n",
    "    category[2],[round(p[2],2)],\n",
    "    category[3],[round(p[3],2)],\n",
    "    category[4],[round(p[4],2)],\n",
    "    category[5],[round(p[5],2)],\n",
    "    category[6],[round(p[6],2)],\n",
    "    category[7],[round(p[7],2)],\n",
    "\n",
    "\n",
    "))"
   ]
  },
  {
   "cell_type": "code",
   "execution_count": 192,
   "id": "97a6526c-5b5d-49f3-aa0f-88d135917c5b",
   "metadata": {},
   "outputs": [],
   "source": [
    "#Predicción de todos los comentarios test\n",
    "preds=np.argmax(model.predict(padded_test_seq), axis=-1)\n",
    "preds\n",
    "\n",
    "df_test['label_predict']=preds\n",
    "df_test['category_predict']=df_test['label_predict'].replace(index_to_class)"
   ]
  },
  {
   "cell_type": "code",
   "execution_count": 193,
   "id": "b641a599-a07d-4b43-bfda-9fe664526a5b",
   "metadata": {},
   "outputs": [
    {
     "data": {
      "text/html": [
       "<div>\n",
       "<style scoped>\n",
       "    .dataframe tbody tr th:only-of-type {\n",
       "        vertical-align: middle;\n",
       "    }\n",
       "\n",
       "    .dataframe tbody tr th {\n",
       "        vertical-align: top;\n",
       "    }\n",
       "\n",
       "    .dataframe thead th {\n",
       "        text-align: right;\n",
       "    }\n",
       "</style>\n",
       "<table border=\"1\" class=\"dataframe\">\n",
       "  <thead>\n",
       "    <tr style=\"text-align: right;\">\n",
       "      <th></th>\n",
       "      <th></th>\n",
       "      <th>index</th>\n",
       "    </tr>\n",
       "    <tr>\n",
       "      <th>category</th>\n",
       "      <th>category_predict</th>\n",
       "      <th></th>\n",
       "    </tr>\n",
       "  </thead>\n",
       "  <tbody>\n",
       "    <tr>\n",
       "      <th rowspan=\"5\" valign=\"top\">Capacitación y atención de PAPs</th>\n",
       "      <th>Capacitación y atención de PAPs</th>\n",
       "      <td>2</td>\n",
       "    </tr>\n",
       "    <tr>\n",
       "      <th>Convenios y franquicias</th>\n",
       "      <td>7</td>\n",
       "    </tr>\n",
       "    <tr>\n",
       "      <th>Satisfacción</th>\n",
       "      <td>1</td>\n",
       "    </tr>\n",
       "    <tr>\n",
       "      <th>Sieweb</th>\n",
       "      <td>6</td>\n",
       "    </tr>\n",
       "    <tr>\n",
       "      <th>Soporte a PAPs</th>\n",
       "      <td>3</td>\n",
       "    </tr>\n",
       "    <tr>\n",
       "      <th rowspan=\"5\" valign=\"top\">Convenios y franquicias</th>\n",
       "      <th>Capacitación y atención de PAPs</th>\n",
       "      <td>2</td>\n",
       "    </tr>\n",
       "    <tr>\n",
       "      <th>Convenios y franquicias</th>\n",
       "      <td>13</td>\n",
       "    </tr>\n",
       "    <tr>\n",
       "      <th>Sieweb</th>\n",
       "      <td>9</td>\n",
       "    </tr>\n",
       "    <tr>\n",
       "      <th>Soporte a PAPs</th>\n",
       "      <td>3</td>\n",
       "    </tr>\n",
       "    <tr>\n",
       "      <th>Topes</th>\n",
       "      <td>2</td>\n",
       "    </tr>\n",
       "    <tr>\n",
       "      <th rowspan=\"4\" valign=\"top\">Marketing/publicidad</th>\n",
       "      <th>Capacitación y atención de PAPs</th>\n",
       "      <td>7</td>\n",
       "    </tr>\n",
       "    <tr>\n",
       "      <th>Convenios y franquicias</th>\n",
       "      <td>2</td>\n",
       "    </tr>\n",
       "    <tr>\n",
       "      <th>Satisfacción</th>\n",
       "      <td>1</td>\n",
       "    </tr>\n",
       "    <tr>\n",
       "      <th>Soporte a PAPs</th>\n",
       "      <td>1</td>\n",
       "    </tr>\n",
       "    <tr>\n",
       "      <th rowspan=\"4\" valign=\"top\">Otros</th>\n",
       "      <th>Capacitación y atención de PAPs</th>\n",
       "      <td>1</td>\n",
       "    </tr>\n",
       "    <tr>\n",
       "      <th>Convenios y franquicias</th>\n",
       "      <td>4</td>\n",
       "    </tr>\n",
       "    <tr>\n",
       "      <th>Sieweb</th>\n",
       "      <td>6</td>\n",
       "    </tr>\n",
       "    <tr>\n",
       "      <th>Soporte a PAPs</th>\n",
       "      <td>2</td>\n",
       "    </tr>\n",
       "    <tr>\n",
       "      <th rowspan=\"4\" valign=\"top\">Satisfacción</th>\n",
       "      <th>Capacitación y atención de PAPs</th>\n",
       "      <td>6</td>\n",
       "    </tr>\n",
       "    <tr>\n",
       "      <th>Convenios y franquicias</th>\n",
       "      <td>1</td>\n",
       "    </tr>\n",
       "    <tr>\n",
       "      <th>Satisfacción</th>\n",
       "      <td>6</td>\n",
       "    </tr>\n",
       "    <tr>\n",
       "      <th>Sieweb</th>\n",
       "      <td>3</td>\n",
       "    </tr>\n",
       "    <tr>\n",
       "      <th rowspan=\"5\" valign=\"top\">Sieweb</th>\n",
       "      <th>Capacitación y atención de PAPs</th>\n",
       "      <td>1</td>\n",
       "    </tr>\n",
       "    <tr>\n",
       "      <th>Convenios y franquicias</th>\n",
       "      <td>9</td>\n",
       "    </tr>\n",
       "    <tr>\n",
       "      <th>Satisfacción</th>\n",
       "      <td>2</td>\n",
       "    </tr>\n",
       "    <tr>\n",
       "      <th>Sieweb</th>\n",
       "      <td>19</td>\n",
       "    </tr>\n",
       "    <tr>\n",
       "      <th>Soporte a PAPs</th>\n",
       "      <td>5</td>\n",
       "    </tr>\n",
       "    <tr>\n",
       "      <th rowspan=\"6\" valign=\"top\">Soporte a PAPs</th>\n",
       "      <th>Capacitación y atención de PAPs</th>\n",
       "      <td>1</td>\n",
       "    </tr>\n",
       "    <tr>\n",
       "      <th>Convenios y franquicias</th>\n",
       "      <td>10</td>\n",
       "    </tr>\n",
       "    <tr>\n",
       "      <th>Satisfacción</th>\n",
       "      <td>1</td>\n",
       "    </tr>\n",
       "    <tr>\n",
       "      <th>Sieweb</th>\n",
       "      <td>5</td>\n",
       "    </tr>\n",
       "    <tr>\n",
       "      <th>Soporte a PAPs</th>\n",
       "      <td>34</td>\n",
       "    </tr>\n",
       "    <tr>\n",
       "      <th>Topes</th>\n",
       "      <td>1</td>\n",
       "    </tr>\n",
       "    <tr>\n",
       "      <th rowspan=\"4\" valign=\"top\">Topes</th>\n",
       "      <th>Capacitación y atención de PAPs</th>\n",
       "      <td>5</td>\n",
       "    </tr>\n",
       "    <tr>\n",
       "      <th>Convenios y franquicias</th>\n",
       "      <td>3</td>\n",
       "    </tr>\n",
       "    <tr>\n",
       "      <th>Sieweb</th>\n",
       "      <td>8</td>\n",
       "    </tr>\n",
       "    <tr>\n",
       "      <th>Soporte a PAPs</th>\n",
       "      <td>2</td>\n",
       "    </tr>\n",
       "    <tr>\n",
       "      <th rowspan=\"3\" valign=\"top\">sin comentarios</th>\n",
       "      <th>Satisfacción</th>\n",
       "      <td>3</td>\n",
       "    </tr>\n",
       "    <tr>\n",
       "      <th>Sieweb</th>\n",
       "      <td>1</td>\n",
       "    </tr>\n",
       "    <tr>\n",
       "      <th>sin comentarios</th>\n",
       "      <td>50</td>\n",
       "    </tr>\n",
       "  </tbody>\n",
       "</table>\n",
       "</div>"
      ],
      "text/plain": [
       "                                                                 index\n",
       "category                        category_predict                      \n",
       "Capacitación y atención de PAPs Capacitación y atención de PAPs  2    \n",
       "                                Convenios y franquicias          7    \n",
       "                                Satisfacción                     1    \n",
       "                                Sieweb                           6    \n",
       "                                Soporte a PAPs                   3    \n",
       "Convenios y franquicias         Capacitación y atención de PAPs  2    \n",
       "                                Convenios y franquicias          13   \n",
       "                                Sieweb                           9    \n",
       "                                Soporte a PAPs                   3    \n",
       "                                Topes                            2    \n",
       "Marketing/publicidad            Capacitación y atención de PAPs  7    \n",
       "                                Convenios y franquicias          2    \n",
       "                                Satisfacción                     1    \n",
       "                                Soporte a PAPs                   1    \n",
       "Otros                           Capacitación y atención de PAPs  1    \n",
       "                                Convenios y franquicias          4    \n",
       "                                Sieweb                           6    \n",
       "                                Soporte a PAPs                   2    \n",
       "Satisfacción                    Capacitación y atención de PAPs  6    \n",
       "                                Convenios y franquicias          1    \n",
       "                                Satisfacción                     6    \n",
       "                                Sieweb                           3    \n",
       "Sieweb                          Capacitación y atención de PAPs  1    \n",
       "                                Convenios y franquicias          9    \n",
       "                                Satisfacción                     2    \n",
       "                                Sieweb                           19   \n",
       "                                Soporte a PAPs                   5    \n",
       "Soporte a PAPs                  Capacitación y atención de PAPs  1    \n",
       "                                Convenios y franquicias          10   \n",
       "                                Satisfacción                     1    \n",
       "                                Sieweb                           5    \n",
       "                                Soporte a PAPs                   34   \n",
       "                                Topes                            1    \n",
       "Topes                           Capacitación y atención de PAPs  5    \n",
       "                                Convenios y franquicias          3    \n",
       "                                Sieweb                           8    \n",
       "                                Soporte a PAPs                   2    \n",
       "sin comentarios                 Satisfacción                     3    \n",
       "                                Sieweb                           1    \n",
       "                                sin comentarios                  50   "
      ]
     },
     "execution_count": 193,
     "metadata": {},
     "output_type": "execute_result"
    }
   ],
   "source": [
    "# Vizualizar predicciones\n",
    "pd.DataFrame(df_test.groupby(['category','category_predict'])['index'].count())"
   ]
  },
  {
   "cell_type": "code",
   "execution_count": 194,
   "id": "c82fdca1-1d41-4f88-8a3b-076c514575cb",
   "metadata": {},
   "outputs": [
    {
     "data": {
      "text/plain": [
       "<Figure size 432x288 with 0 Axes>"
      ]
     },
     "metadata": {},
     "output_type": "display_data"
    }
   ],
   "source": [
    "from sklearn.metrics import confusion_matrix, ConfusionMatrixDisplay\n",
    "plt.clf() # Start over\n",
    "# https://scikit-learn.org/stable/modules/generated/sklearn.metrics.ConfusionMatrixDisplay.html\n",
    "cm = confusion_matrix(df_test['category'],df_test['category_predict'])\n",
    "\n",
    "\n",
    "#CUANDO HAY SOLO 2 CATEGORIAS\n",
    "# TP=cm[0][0]\n",
    "# FN=cm[0][1]\n",
    "# FP=cm[1][0]\n",
    "# TN=cm[1][1]\n",
    "# Sens=TP/(TP+FN) #Sensibilidad \n",
    "# UnomSp=FP/(FP+TN) #(1-Specify)\n",
    "# Prec= TP/(TP+FP) # #Precisión\n",
    "# # Lo mas eficiente es sensibilidad=1, 1-Sepcify=0\n",
    "# # TP  FN  \n",
    "# # FP  TN\n",
    "\n",
    "#CUANDO HAY 3 CATEGORIAS\n",
    "TP1=cm[0][0]\n",
    "FN1=cm[0][1]+cm[0][2]\n",
    "FN1bis=cm[1][2]+cm[2][1]\n",
    "FP1=cm[1][0]+cm[2][0]\n",
    "TN1=cm[1][1]+cm[2][2]\n",
    "Sens=TP1/(TP1+FN1) #Sensibilidad \n",
    "UnomSp=FP1/(FP1+TN1+FN1bis) #(1-Specify)\n",
    "Prec= TP1/(TP1+FP1) # #Precisión\n",
    "# Lo mas eficiente es sensibilidad=1, 1-Sepcify=0\n",
    "# TP  FN  \n",
    "# FP  TN"
   ]
  },
  {
   "cell_type": "code",
   "execution_count": 195,
   "id": "b83aed7a-8b7e-4d0e-9027-7db398014d37",
   "metadata": {},
   "outputs": [
    {
     "data": {
      "image/png": "[encoded data removed]",
      "text/plain": [
       "<Figure size 432x288 with 2 Axes>"
      ]
     },
     "metadata": {
      "needs_background": "light"
     },
     "output_type": "display_data"
    },
    {
     "name": "stdout",
     "output_type": "stream",
     "text": [
      "Resultados de Capacitación y atención de PAPs:\n",
      "De los 9 comentarios test reales \"Capacitación y atención de PAPs\", el 22.0% fueron correctamente predictos como Capacitación y atención de PAPs (Sensibilidad)\n",
      "De los 24 comentarios test reales \"no Capacitación y atención de PAPs\", el 38% fueron erroneamente predictos como Capacitación y atención de PAPs (1-Specify)\n",
      "De los 11 comentarios test predictos como \"Capacitación y atención de PAPs\", el 18% fueron correctamente predictos como Capacitación y atención de PAPs (Precisión/Accuracy)\n"
     ]
    }
   ],
   "source": [
    "disp = ConfusionMatrixDisplay(confusion_matrix=cm)\n",
    "disp.plot() \n",
    "plt.show()\n",
    "print(f'Resultados de {category[0]}:')\n",
    "print(f'De los {TP1+FN1} comentarios test reales \"{category[0]}\", el {round(Sens,2)*100}% fueron correctamente predictos como {category[0]} (Sensibilidad)')\n",
    "print(f'De los {TN1+FP1+FN1bis} comentarios test reales \"no {category[0]}\", el {round(UnomSp*100)}% fueron erroneamente predictos como {category[0]} (1-Specify)') \n",
    "print(f'De los {TP1+FP1} comentarios test predictos como \"{category[0]}\", el {round(Prec*100)}% fueron correctamente predictos como {category[0]} (Precisión/Accuracy)') "
   ]
  },
  {
   "cell_type": "code",
   "execution_count": 197,
   "id": "ad1a4206-830d-4bdc-b92b-210547c4725e",
   "metadata": {},
   "outputs": [
    {
     "data": {
      "text/plain": [
       "{'Capacitación y atención de PAPs': 0,\n",
       " 'Convenios y franquicias ': 1,\n",
       " 'Marketing/publicidad': 2,\n",
       " 'Otros': 3,\n",
       " 'Satisfacción': 4,\n",
       " 'Soporte a PAPs': 5,\n",
       " 'Topes': 6,\n",
       " 'Sieweb': 7,\n",
       " 'sin comentarios': 8}"
      ]
     },
     "execution_count": 197,
     "metadata": {},
     "output_type": "execute_result"
    }
   ],
   "source": [
    "class_to_index \n",
    "# sieweb te lo confunde con topes\n",
    "#Satisfacción con topes y capacitación\n",
    "#Capacitación con topes"
   ]
  },
  {
   "cell_type": "code",
   "execution_count": 196,
   "id": "6e7feedb-3ba7-4f0b-8054-3c3ebf1afcc7",
   "metadata": {},
   "outputs": [],
   "source": [
    "#GUARDAR EL MODELO! y como volverlo a usar\n",
    "\n",
    "# from keras.models import load_model\n",
    "\n",
    "# model.save('modelo_NLP_v1.h5')  # creates a HDF5 file \n",
    "# del model  # deletes the existing model\n",
    "\n",
    "\n",
    "# model = load_model('modelo_NLP_v1.h5') #Carga el modelo guardado para usarlo\n"
   ]
  },
  {
   "cell_type": "code",
   "execution_count": null,
   "id": "9033e0ae-85e8-4ced-be0a-df4e4e031694",
   "metadata": {},
   "outputs": [],
   "source": [
    "# #Guardar tokenizer!\n",
    "# import pickle\n",
    "\n",
    "# # saving\n",
    "# with open('tokenizer.model_v3', 'wb') as handle:\n",
    "#     pickle.dump(tokenizer, handle, protocol=pickle.HIGHEST_PROTOCOL)\n",
    "\n",
    "# import pickle\n",
    "# loading\n",
    "# with open('tokenizer.pickle', 'rb') as handle:\n",
    "#     tokenizer = pickle.load(handle)"
   ]
  }
 ],
 "metadata": {
  "kernelspec": {
   "display_name": "Python 3",
   "language": "python",
   "name": "python3"
  },
  "language_info": {
   "codemirror_mode": {
    "name": "ipython",
    "version": 3
   },
   "file_extension": ".py",
   "mimetype": "text/x-python",
   "name": "python",
   "nbconvert_exporter": "python",
   "pygments_lexer": "ipython3",
   "version": "3.8.8"
  }
 },
 "nbformat": 4,
 "nbformat_minor": 5
}
