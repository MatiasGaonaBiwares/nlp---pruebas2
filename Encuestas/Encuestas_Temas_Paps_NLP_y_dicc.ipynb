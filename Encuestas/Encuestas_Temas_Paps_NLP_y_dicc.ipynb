{
 "cells": [
  {
   "cell_type": "code",
   "execution_count": 2,
   "id": "f8dd7faf-d526-46be-9ed1-1a649a9712a1",
   "metadata": {},
   "outputs": [],
   "source": [
    "# Aplico diccionario a todas las encuestas, despues NLP a las que tienen texto libre"
   ]
  },
  {
   "cell_type": "code",
   "execution_count": null,
   "id": "ddff2e8d-d8bb-4eee-a35b-43c9815b016c",
   "metadata": {},
   "outputs": [],
   "source": [
    "# Diccionario"
   ]
  },
  {
   "cell_type": "code",
   "execution_count": 19,
   "id": "04113fe9-b500-411d-9f69-0e13992deb45",
   "metadata": {},
   "outputs": [],
   "source": [
    "import pandas as pd\n",
    "#Aplico un diccionario de temas inicialmente a todas las encuestas.\n",
    "df2=pd.read_excel('Encuestas_Temas_Diccionario.xlsx')"
   ]
  },
  {
   "cell_type": "code",
   "execution_count": 6,
   "id": "10cfd570-f83f-446e-aeb2-9a8d37bca574",
   "metadata": {},
   "outputs": [],
   "source": [
    "#A este grupo, aplicarle el diccionario de la columna 'Diccionario'\n",
    "df_sin_campo_libre=df[df2['Campo libre']=='no']\n",
    "\n",
    "#A este grupo, aplicarle el NLP según lo que se escribió en la Encuesta en el texto libre\n",
    "df_con_campo_libre=df[df2['Campo libre']=='si']\n"
   ]
  },
  {
   "cell_type": "code",
   "execution_count": 7,
   "id": "917f3ef3-f4ef-466b-b368-feaa6e7048f6",
   "metadata": {},
   "outputs": [
    {
     "name": "stdout",
     "output_type": "stream",
     "text": [
      "P_Dev. Orden de Servicio/Cupón\n"
     ]
    }
   ],
   "source": [
    "dicc=df2.set_index(['Etiquetas de fila'])['Diccionario'].to_dict()\n",
    "Subtipo='P_Dev. Orden de Servicio/Cupón'\n",
    "try:\n",
    "    Cateogria_tema=dicc[Subtipo]\n",
    "except: \n",
    "    Cateogria_tema=Subtipo\n",
    "    \n",
    "print(Cateogria_tema)"
   ]
  },
  {
   "cell_type": "code",
   "execution_count": 8,
   "id": "ba5d5641-6031-4f67-b093-8412a0ef0c2e",
   "metadata": {},
   "outputs": [],
   "source": [
    "#NLP"
   ]
  },
  {
   "cell_type": "markdown",
   "id": "86efacca-c881-4937-8666-c15fcb4a2a84",
   "metadata": {},
   "source": [
    "# PROCESO"
   ]
  },
  {
   "cell_type": "markdown",
   "id": "777cc88f-ddb6-46a3-b756-7c1e1723c734",
   "metadata": {},
   "source": [
    "\n",
    "1- Preprocesamiento/Limpieza: lower, numeros,caracteres,tildes,etc.\n",
    "\n",
    "2- Categorizar label, tokenizar y sequencializar, definir variables\n",
    "\n",
    "3 - Lemmatization/stemming??\n",
    "\n",
    "4- Definiciones y análisis\n",
    "\n",
    "5- Genero modelo\n"
   ]
  },
  {
   "cell_type": "code",
   "execution_count": 9,
   "id": "21771eba-55d9-434d-bdb6-511ccfd98d9a",
   "metadata": {},
   "outputs": [
    {
     "name": "stderr",
     "output_type": "stream",
     "text": [
      "<ipython-input-9-c7aacfcc0b17>:12: FutureWarning: Passing a negative integer is deprecated in version 1.0 and will not be supported in future version. Instead, use None to not limit the column width.\n",
      "  pd.set_option('display.max_colwidth', -1)\n"
     ]
    }
   ],
   "source": [
    "%matplotlib inline\n",
    "\n",
    "import tensorflow as tf\n",
    "import numpy as np\n",
    "import pandas as pd\n",
    "import matplotlib.pyplot as plt\n",
    "import nlp #Libreria de huggingface de Datasets\n",
    "import random\n",
    "\n",
    "pd.set_option('display.max_colwidth', -1)"
   ]
  },
  {
   "cell_type": "code",
   "execution_count": 18,
   "id": "b7252fc7-a0cb-4ca6-b5f8-75f3a23db74b",
   "metadata": {},
   "outputs": [
    {
     "name": "stderr",
     "output_type": "stream",
     "text": [
      "C:\\Users\\Usuario\\anaconda3\\lib\\site-packages\\openpyxl\\worksheet\\_reader.py:312: UserWarning: Data Validation extension is not supported and will be removed\n",
      "  warn(msg)\n"
     ]
    }
   ],
   "source": [
    "# SELECCIONO EL DATASET\n",
    "\n",
    "df=pd.read_excel('Encuestas_FrasesyTemas_muestra_textolibre.xlsx')\n",
    "df.head()\n",
    "df=df[~df['category'].isnull()]"
   ]
  },
  {
   "cell_type": "code",
   "execution_count": 92,
   "id": "96d00c63-c43b-4400-9e3e-49a9d6bc209e",
   "metadata": {},
   "outputs": [],
   "source": [
    "# Diccionario_Efecty={'santander':'banco','servicio Bancario':'banco',\n",
    "#                     'agua':'servicio','gas':'servicio','datafono':'servicio','wester union','recaudo':'servicio'\n",
    "#                     'sistema':'sieweb','plataforma':'sieweb','sieweblive':'sieweb',\n",
    "#                    'corresponsal bancario':'pap',\n",
    "#                    'tope':'topes' \n",
    "#                     subsidios: FAMILIAS EN ACCION, DAVIPLATA, DEVOLUCION DEL IVA, FIDUAGRARIA, INGRESO SOLIDARIO, JOVENES ACCION\n",
    "#                    Otras plataformas:  bancolombia y davivienda\n",
    "#                     wiki,wikipedia, convenios,\n",
    "#                    \"revisa la wiki\", superhero, baloto, su red, daviplta, servientrega, pasarela de pago\n",
    "#                    dimonex es una empresa asociados a ellos. podría reducirlo a Efecty\n",
    "# #                    }"
   ]
  },
  {
   "cell_type": "markdown",
   "id": "ad26c40d-2050-4324-9378-788da6642460",
   "metadata": {},
   "source": [
    "# Preprocesamientorename"
   ]
  },
  {
   "cell_type": "code",
   "execution_count": 93,
   "id": "44066d55-1936-4653-8ca9-60b71e3fd3b9",
   "metadata": {},
   "outputs": [],
   "source": [
    "category=df.category.unique()\n",
    "category\n",
    "\n",
    "class_to_index=dict((c,i) for i,c in enumerate(category)) #cambiar classes por category por ahi\n",
    "index_to_class=dict((v,k) for k,v in class_to_index.items())\n",
    "\n",
    "df['label']=df['category'].replace(class_to_index)"
   ]
  },
  {
   "cell_type": "code",
   "execution_count": 96,
   "id": "f381ce32-7b51-4c01-af58-383e9299334a",
   "metadata": {},
   "outputs": [],
   "source": [
    "#Limpieza de formato\n",
    "import re\n",
    "df['comentario']=df['comentario'].apply(lambda x: str(x).lower())\n",
    "df['comentario']=df['comentario'].apply(lambda x: re.sub('á','a',str(x)))\n",
    "df['comentario']=df['comentario'].apply(lambda x: re.sub('é','e',str(x)))\n",
    "df['comentario']=df['comentario'].apply(lambda x: re.sub('í','i',str(x)))\n",
    "df['comentario']=df['comentario'].apply(lambda x: re.sub('ó','o',str(x)))\n",
    "df['comentario']=df['comentario'].apply(lambda x: re.sub('ú','u',str(x)))\n",
    "df['comentario']=df['comentario'].apply(lambda x: re.sub(\"\"\"http.*?\\s\"\"\",'',str(x)))\n",
    "df['comentario']=df['comentario'].apply(lambda x: re.sub(\"\"\"[.,]{0,3}|@|[0-9]|\\n|[¡!@#$:)(;¿?&\\-'_%]\"\"\",'',str(x)))"
   ]
  },
  {
   "cell_type": "code",
   "execution_count": 97,
   "id": "f1f30b21-7018-433c-a15a-80ef30910444",
   "metadata": {},
   "outputs": [],
   "source": [
    "stop_words=[]\n",
    "stop_words = (pd.read_excel('C:/Users/Usuario/Desktop/Respositorio archivos .py/NLP/Datasets/stop_words_sin_tilde1.xlsx')) \n",
    "stop_words=list(stop_words['stopwords'])\n",
    "\n"
   ]
  },
  {
   "cell_type": "code",
   "execution_count": 98,
   "id": "2bbb6ff2-7ed1-41d9-8dc3-076ceeb82a6c",
   "metadata": {},
   "outputs": [],
   "source": [
    "for f in stop_words:\n",
    "    df['comentario']=df['comentario'].apply(lambda x: re.sub(r'\\s'+f+'\\s',' ',str(x)))\n",
    "    df['comentario']=df['comentario'].apply(lambda x: re.sub(r'^'+f+'\\s',' ',str(x)))"
   ]
  },
  {
   "cell_type": "markdown",
   "id": "bc3f6524-69db-4dda-a7d8-f1c8f4581503",
   "metadata": {},
   "source": [
    "# Genero definiciones"
   ]
  },
  {
   "cell_type": "code",
   "execution_count": 47,
   "id": "c69bf53e-f5b4-4bb1-a59d-23533fa6f047",
   "metadata": {},
   "outputs": [],
   "source": [
    "from sklearn.model_selection import train_test_split\n",
    "\n",
    "X_train, X_test, y_train, y_test =train_test_split(\n",
    "    df.index.values,\n",
    "    df.label.values,\n",
    "    test_size=0.25, #Es el 15% de la muestra es para validación (diferente a test! val sirve para reentrenar automaticamente)\n",
    "    random_state=17, #Se asigna un seed. para que sean siempre el mismo random\n",
    "    stratify=df.label.values #Aca lo que hace, es que asigna las diviciones por los labels values\n",
    ")\n",
    "\n",
    "X_train, X_val, y_train, y_val = train_test_split(X_train, y_train, test_size=0.25, random_state=17,stratify=y_train) # 0.25 x 0.8 = 0.2\n"
   ]
  },
  {
   "cell_type": "code",
   "execution_count": 48,
   "id": "d4958a98-0a09-4e58-9d82-0fc8e98a4c4a",
   "metadata": {},
   "outputs": [
    {
     "data": {
      "text/html": [
       "<div>\n",
       "<style scoped>\n",
       "    .dataframe tbody tr th:only-of-type {\n",
       "        vertical-align: middle;\n",
       "    }\n",
       "\n",
       "    .dataframe tbody tr th {\n",
       "        vertical-align: top;\n",
       "    }\n",
       "\n",
       "    .dataframe thead th {\n",
       "        text-align: right;\n",
       "    }\n",
       "</style>\n",
       "<table border=\"1\" class=\"dataframe\">\n",
       "  <thead>\n",
       "    <tr style=\"text-align: right;\">\n",
       "      <th></th>\n",
       "      <th></th>\n",
       "      <th>Origen</th>\n",
       "      <th>Unnamed: 2</th>\n",
       "      <th>comentario</th>\n",
       "      <th>label</th>\n",
       "    </tr>\n",
       "    <tr>\n",
       "      <th>data_type</th>\n",
       "      <th>category</th>\n",
       "      <th></th>\n",
       "      <th></th>\n",
       "      <th></th>\n",
       "      <th></th>\n",
       "    </tr>\n",
       "  </thead>\n",
       "  <tbody>\n",
       "    <tr>\n",
       "      <th rowspan=\"9\" valign=\"top\">test</th>\n",
       "      <th>Capacitación y atención de PAPs</th>\n",
       "      <td>15</td>\n",
       "      <td>0</td>\n",
       "      <td>15</td>\n",
       "      <td>15</td>\n",
       "    </tr>\n",
       "    <tr>\n",
       "      <th>Convenios y franquicias</th>\n",
       "      <td>30</td>\n",
       "      <td>0</td>\n",
       "      <td>30</td>\n",
       "      <td>30</td>\n",
       "    </tr>\n",
       "    <tr>\n",
       "      <th>Marketing/publicidad</th>\n",
       "      <td>7</td>\n",
       "      <td>0</td>\n",
       "      <td>7</td>\n",
       "      <td>7</td>\n",
       "    </tr>\n",
       "    <tr>\n",
       "      <th>Otros</th>\n",
       "      <td>13</td>\n",
       "      <td>0</td>\n",
       "      <td>13</td>\n",
       "      <td>13</td>\n",
       "    </tr>\n",
       "    <tr>\n",
       "      <th>Satisfacción</th>\n",
       "      <td>16</td>\n",
       "      <td>0</td>\n",
       "      <td>16</td>\n",
       "      <td>16</td>\n",
       "    </tr>\n",
       "    <tr>\n",
       "      <th>Sieweb</th>\n",
       "      <td>36</td>\n",
       "      <td>0</td>\n",
       "      <td>36</td>\n",
       "      <td>36</td>\n",
       "    </tr>\n",
       "    <tr>\n",
       "      <th>Soporte a PAPs</th>\n",
       "      <td>52</td>\n",
       "      <td>0</td>\n",
       "      <td>52</td>\n",
       "      <td>52</td>\n",
       "    </tr>\n",
       "    <tr>\n",
       "      <th>Topes</th>\n",
       "      <td>13</td>\n",
       "      <td>0</td>\n",
       "      <td>13</td>\n",
       "      <td>13</td>\n",
       "    </tr>\n",
       "    <tr>\n",
       "      <th>sin comentarios</th>\n",
       "      <td>54</td>\n",
       "      <td>0</td>\n",
       "      <td>54</td>\n",
       "      <td>54</td>\n",
       "    </tr>\n",
       "    <tr>\n",
       "      <th rowspan=\"9\" valign=\"top\">train</th>\n",
       "      <th>Capacitación y atención de PAPs</th>\n",
       "      <td>34</td>\n",
       "      <td>0</td>\n",
       "      <td>34</td>\n",
       "      <td>34</td>\n",
       "    </tr>\n",
       "    <tr>\n",
       "      <th>Convenios y franquicias</th>\n",
       "      <td>66</td>\n",
       "      <td>0</td>\n",
       "      <td>66</td>\n",
       "      <td>66</td>\n",
       "    </tr>\n",
       "    <tr>\n",
       "      <th>Marketing/publicidad</th>\n",
       "      <td>16</td>\n",
       "      <td>0</td>\n",
       "      <td>16</td>\n",
       "      <td>16</td>\n",
       "    </tr>\n",
       "    <tr>\n",
       "      <th>Otros</th>\n",
       "      <td>30</td>\n",
       "      <td>0</td>\n",
       "      <td>30</td>\n",
       "      <td>30</td>\n",
       "    </tr>\n",
       "    <tr>\n",
       "      <th>Satisfacción</th>\n",
       "      <td>37</td>\n",
       "      <td>0</td>\n",
       "      <td>37</td>\n",
       "      <td>37</td>\n",
       "    </tr>\n",
       "    <tr>\n",
       "      <th>Sieweb</th>\n",
       "      <td>81</td>\n",
       "      <td>0</td>\n",
       "      <td>81</td>\n",
       "      <td>81</td>\n",
       "    </tr>\n",
       "    <tr>\n",
       "      <th>Soporte a PAPs</th>\n",
       "      <td>115</td>\n",
       "      <td>0</td>\n",
       "      <td>115</td>\n",
       "      <td>115</td>\n",
       "    </tr>\n",
       "    <tr>\n",
       "      <th>Topes</th>\n",
       "      <td>29</td>\n",
       "      <td>0</td>\n",
       "      <td>29</td>\n",
       "      <td>29</td>\n",
       "    </tr>\n",
       "    <tr>\n",
       "      <th>sin comentarios</th>\n",
       "      <td>121</td>\n",
       "      <td>0</td>\n",
       "      <td>121</td>\n",
       "      <td>121</td>\n",
       "    </tr>\n",
       "    <tr>\n",
       "      <th rowspan=\"9\" valign=\"top\">val</th>\n",
       "      <th>Capacitación y atención de PAPs</th>\n",
       "      <td>11</td>\n",
       "      <td>0</td>\n",
       "      <td>11</td>\n",
       "      <td>11</td>\n",
       "    </tr>\n",
       "    <tr>\n",
       "      <th>Convenios y franquicias</th>\n",
       "      <td>22</td>\n",
       "      <td>0</td>\n",
       "      <td>22</td>\n",
       "      <td>22</td>\n",
       "    </tr>\n",
       "    <tr>\n",
       "      <th>Marketing/publicidad</th>\n",
       "      <td>6</td>\n",
       "      <td>0</td>\n",
       "      <td>6</td>\n",
       "      <td>6</td>\n",
       "    </tr>\n",
       "    <tr>\n",
       "      <th>Otros</th>\n",
       "      <td>10</td>\n",
       "      <td>0</td>\n",
       "      <td>10</td>\n",
       "      <td>10</td>\n",
       "    </tr>\n",
       "    <tr>\n",
       "      <th>Satisfacción</th>\n",
       "      <td>12</td>\n",
       "      <td>0</td>\n",
       "      <td>12</td>\n",
       "      <td>12</td>\n",
       "    </tr>\n",
       "    <tr>\n",
       "      <th>Sieweb</th>\n",
       "      <td>27</td>\n",
       "      <td>0</td>\n",
       "      <td>27</td>\n",
       "      <td>27</td>\n",
       "    </tr>\n",
       "    <tr>\n",
       "      <th>Soporte a PAPs</th>\n",
       "      <td>39</td>\n",
       "      <td>0</td>\n",
       "      <td>39</td>\n",
       "      <td>39</td>\n",
       "    </tr>\n",
       "    <tr>\n",
       "      <th>Topes</th>\n",
       "      <td>10</td>\n",
       "      <td>0</td>\n",
       "      <td>10</td>\n",
       "      <td>10</td>\n",
       "    </tr>\n",
       "    <tr>\n",
       "      <th>sin comentarios</th>\n",
       "      <td>40</td>\n",
       "      <td>0</td>\n",
       "      <td>40</td>\n",
       "      <td>40</td>\n",
       "    </tr>\n",
       "  </tbody>\n",
       "</table>\n",
       "</div>"
      ],
      "text/plain": [
       "                                           Origen  Unnamed: 2  comentario  \\\n",
       "data_type category                                                          \n",
       "test      Capacitación y atención de PAPs  15      0           15           \n",
       "          Convenios y franquicias          30      0           30           \n",
       "          Marketing/publicidad             7       0           7            \n",
       "          Otros                            13      0           13           \n",
       "          Satisfacción                     16      0           16           \n",
       "          Sieweb                           36      0           36           \n",
       "          Soporte a PAPs                   52      0           52           \n",
       "          Topes                            13      0           13           \n",
       "          sin comentarios                  54      0           54           \n",
       "train     Capacitación y atención de PAPs  34      0           34           \n",
       "          Convenios y franquicias          66      0           66           \n",
       "          Marketing/publicidad             16      0           16           \n",
       "          Otros                            30      0           30           \n",
       "          Satisfacción                     37      0           37           \n",
       "          Sieweb                           81      0           81           \n",
       "          Soporte a PAPs                   115     0           115          \n",
       "          Topes                            29      0           29           \n",
       "          sin comentarios                  121     0           121          \n",
       "val       Capacitación y atención de PAPs  11      0           11           \n",
       "          Convenios y franquicias          22      0           22           \n",
       "          Marketing/publicidad             6       0           6            \n",
       "          Otros                            10      0           10           \n",
       "          Satisfacción                     12      0           12           \n",
       "          Sieweb                           27      0           27           \n",
       "          Soporte a PAPs                   39      0           39           \n",
       "          Topes                            10      0           10           \n",
       "          sin comentarios                  40      0           40           \n",
       "\n",
       "                                           label  \n",
       "data_type category                                \n",
       "test      Capacitación y atención de PAPs  15     \n",
       "          Convenios y franquicias          30     \n",
       "          Marketing/publicidad             7      \n",
       "          Otros                            13     \n",
       "          Satisfacción                     16     \n",
       "          Sieweb                           36     \n",
       "          Soporte a PAPs                   52     \n",
       "          Topes                            13     \n",
       "          sin comentarios                  54     \n",
       "train     Capacitación y atención de PAPs  34     \n",
       "          Convenios y franquicias          66     \n",
       "          Marketing/publicidad             16     \n",
       "          Otros                            30     \n",
       "          Satisfacción                     37     \n",
       "          Sieweb                           81     \n",
       "          Soporte a PAPs                   115    \n",
       "          Topes                            29     \n",
       "          sin comentarios                  121    \n",
       "val       Capacitación y atención de PAPs  11     \n",
       "          Convenios y franquicias          22     \n",
       "          Marketing/publicidad             6      \n",
       "          Otros                            10     \n",
       "          Satisfacción                     12     \n",
       "          Sieweb                           27     \n",
       "          Soporte a PAPs                   39     \n",
       "          Topes                            10     \n",
       "          sin comentarios                  40     "
      ]
     },
     "execution_count": 48,
     "metadata": {},
     "output_type": "execute_result"
    }
   ],
   "source": [
    "#Cantidad de categorias definidas\n",
    "qty_label=len(df.label.unique())\n",
    "\n",
    "\n",
    "# Al Dataframe le agrego la marca a cada index si es val, train o test\n",
    "df['data_type']='not_set'\n",
    "\n",
    "df.loc[X_train,'data_type']='train'\n",
    "df.loc[X_val,'data_type']='val'\n",
    "df.loc[X_test,'data_type']='test'\n",
    "\n",
    "df.groupby(['data_type','category']).count()"
   ]
  },
  {
   "cell_type": "code",
   "execution_count": 49,
   "id": "a46cb283-63a9-47d6-ad52-e521151ffacc",
   "metadata": {},
   "outputs": [],
   "source": [
    "#Definiciones a futuro útiles\n",
    "\n",
    "train=df.data_type=='train'\n",
    "val=df.data_type=='val'\n",
    "test=df.data_type=='test'\n",
    "\n",
    "all_comentarios=np.array(df.comentario)\n",
    "label=df.label.unique()"
   ]
  },
  {
   "cell_type": "markdown",
   "id": "513af854-8bc5-48bb-9bc6-fd7f109452a9",
   "metadata": {},
   "source": [
    "# Tokenizar"
   ]
  },
  {
   "cell_type": "code",
   "execution_count": 50,
   "id": "5f017ab7-7bbf-4539-9f6b-4958235e8632",
   "metadata": {},
   "outputs": [],
   "source": [
    "#Entender cuantas palabras tengo que se repiten 1 vez,2 veces y más de 3 veces"
   ]
  },
  {
   "cell_type": "code",
   "execution_count": 51,
   "id": "f2f6b2e5-68b8-448f-986e-1959d1efb7ec",
   "metadata": {},
   "outputs": [],
   "source": [
    "from tensorflow.keras.preprocessing.text import Tokenizer"
   ]
  },
  {
   "cell_type": "code",
   "execution_count": 52,
   "id": "ae1ac021-9421-4f76-9d3c-2867141deb5e",
   "metadata": {},
   "outputs": [],
   "source": [
    "comentario_train=df[df.data_type=='train']['comentario']\n",
    "\n",
    "num_wordsmax=8000\n",
    "tokenizer=Tokenizer(num_words=num_wordsmax,oov_token='<UNK>') #Si la palabra no esta entre las 10.000 mas usadas, se guarda como <UNK> y su propio seq\n",
    "tokenizer.fit_on_texts(comentario_train)"
   ]
  },
  {
   "cell_type": "code",
   "execution_count": 53,
   "id": "c57bdee0-cbf3-41fd-8c3a-5232202aa09d",
   "metadata": {},
   "outputs": [],
   "source": [
    "# aplicar Diccionario_Efecty a todas las palabras"
   ]
  },
  {
   "cell_type": "code",
   "execution_count": 54,
   "id": "d8ec6d5a-8df8-4d74-b73f-3c75d438a0b2",
   "metadata": {},
   "outputs": [
    {
     "name": "stdout",
     "output_type": "stream",
     "text": [
      "2125\n",
      "            palabras\n",
      "frecuencia          \n",
      "1           1344    \n",
      "2           309     \n",
      "3           139     \n",
      "4           83      \n",
      "5           63      \n",
      "6           27      \n",
      "7           23      \n",
      "8           22      \n",
      "9           15      \n",
      "10          11      \n",
      "11          8       \n",
      "12          4       \n",
      "13          17      \n",
      "14          7       \n",
      "15          7       \n",
      "       palabras  frecuencia\n",
      "2    mas         139       \n",
      "642  ninguna     78        \n",
      "36   servicio    61        \n",
      "192  cuando      60        \n",
      "69   puntos      46        \n",
      "243  mejorar     43        \n",
      "261  sistema     41        \n",
      "158  punto       40        \n",
      "97   momento     37        \n",
      "20   proyectos   37        \n",
      "70   clientes    36        \n",
      "49   gracias     35        \n",
      "215  atencion    34        \n",
      "418  si          32        \n",
      "575  plataforma  32        \n"
     ]
    }
   ],
   "source": [
    "#ANALIZO CUANTAS VECES SE REPITEN LAS PALABRAS, DISTRIBUCIÓN DE LAS PALABRAS\n",
    "\n",
    "palaras=pd.DataFrame(tokenizer.word_docs.items(), columns=['palabras', 'frecuencia']).sort_values(by='frecuencia',ascending=False)\n",
    "frecuencia_palabras=palaras.groupby('frecuencia').count().head(15)\n",
    "cantidad_de_palabras=palaras['palabras'].count()\n",
    "\n",
    "print(int(cantidad_de_palabras))\n",
    "print(frecuencia_palabras)\n",
    "print(palaras.head(15))"
   ]
  },
  {
   "cell_type": "code",
   "execution_count": 55,
   "id": "dfe8dbeb-8733-41f8-87f1-8ee5a8f8fd07",
   "metadata": {},
   "outputs": [
    {
     "name": "stdout",
     "output_type": "stream",
     "text": [
      "['virtuales']\n",
      "[[1]]\n"
     ]
    }
   ],
   "source": [
    "#Encontrar un token o una palabra\n",
    "print(tokenizer.sequences_to_texts([[500]]))\n",
    "print(tokenizer.texts_to_sequences(['thanks']))"
   ]
  },
  {
   "cell_type": "markdown",
   "id": "e141d278-c9ec-4264-9685-80cc0e751a7e",
   "metadata": {},
   "source": [
    "- Padding. Determinar la cantidad de palabras por frase\n",
    "- Sequencial. Pasar de palabra a numero"
   ]
  },
  {
   "cell_type": "code",
   "execution_count": 56,
   "id": "1da572cc-442e-4c81-a3d8-402dd576410c",
   "metadata": {},
   "outputs": [],
   "source": [
    "lengh=[len(t.split(' ')) for t in all_comentarios]"
   ]
  },
  {
   "cell_type": "code",
   "execution_count": 57,
   "id": "83320e01-d1f7-4074-b776-f46cb7acf36c",
   "metadata": {},
   "outputs": [
    {
     "data": {
      "image/png": "[encoded data removed]",
      "text/plain": [
       "<Figure size 1152x288 with 1 Axes>"
      ]
     },
     "metadata": {
      "needs_background": "light"
     },
     "output_type": "display_data"
    }
   ],
   "source": [
    "plt.figure(figsize=[16,4])\n",
    "plt.hist(lengh, bins=80)\n",
    "plt.ylabel('qty words',fontsize=15)\n",
    "plt.title('Cantidad de palabras por comentario\\n',fontsize=15)\n",
    "cont=np.linspace(0, 600,31)\n",
    "plt.xticks(ticks=cont)\n",
    "plt.show()"
   ]
  },
  {
   "cell_type": "code",
   "execution_count": 58,
   "id": "1dc49cc9-21fd-4f93-94a9-2391afd1594d",
   "metadata": {},
   "outputs": [],
   "source": [
    "maxlen=20 #Lo defino yo en base al ultimo grafico\n",
    "from tensorflow.keras.preprocessing.sequence import pad_sequences"
   ]
  },
  {
   "cell_type": "code",
   "execution_count": 59,
   "id": "51df63dd-afae-4c37-8229-a208a3f481df",
   "metadata": {},
   "outputs": [],
   "source": [
    "#Ejemplo de un comentario tokenizado\n",
    "df['com_tokenizado']=0\n",
    "df['com_padded']=0\n",
    "token_all=tokenizer.texts_to_sequences(all_comentarios)\n",
    "# for i in range(0,len(df.index)): #OPTIMIZARLO CON INDEX? TARDA MUCHO\n",
    "#     token=tokenizer.texts_to_sequences(all_comentarios[i])\n",
    "#     df['com_tokenizado'][i]=str(token)\n",
    "#     df['com_padded'][i]=str(pad_sequences(token_all,padding='post',maxlen=maxlen)[0])\n"
   ]
  },
  {
   "cell_type": "markdown",
   "id": "3ac623d6-5457-4bd1-ace2-7a1f8b77b5e0",
   "metadata": {},
   "source": [
    "# PREPARING LABELS"
   ]
  },
  {
   "cell_type": "code",
   "execution_count": 60,
   "id": "2a2d7d2f-1f78-4c3c-9355-68d5f7bfa261",
   "metadata": {},
   "outputs": [
    {
     "data": {
      "image/png": "[encoded data removed]",
      "text/plain": [
       "<Figure size 432x288 with 1 Axes>"
      ]
     },
     "metadata": {
      "needs_background": "light"
     },
     "output_type": "display_data"
    }
   ],
   "source": [
    "plt.hist(df.category,bins=11)\n",
    "plt.show()"
   ]
  },
  {
   "cell_type": "markdown",
   "id": "cf4e27af-c666-418f-9921-d0651b1b921c",
   "metadata": {},
   "source": [
    "# Genero el modelo"
   ]
  },
  {
   "cell_type": "markdown",
   "id": "d8e193e4-a205-4bb6-a53a-46f94f7a7161",
   "metadata": {},
   "source": [
    "Hyperparametros:\n",
    "- dimension de embedding\n",
    "- cantidad de redes\n",
    "- canitdad de neuronas por redes\n",
    "- loss/optimizer\n",
    "- learning rate\n",
    "- epoch\n",
    "    "
   ]
  },
  {
   "cell_type": "code",
   "execution_count": 61,
   "id": "612239c0-6758-4740-aa23-c7a88be8f385",
   "metadata": {},
   "outputs": [],
   "source": [
    "# Se puede optar por embedding o One Hot Encoding (que cada palabra sea un vector de 0s con 1 uno en la unique word)\n",
    "# Embedding sirve para cualquier idioma! porque trabaja con tokens y sus relaciones en los inputs, no con texto"
   ]
  },
  {
   "cell_type": "code",
   "execution_count": 62,
   "id": "d87d3bf1-d80e-4148-88be-c770ac652102",
   "metadata": {},
   "outputs": [],
   "source": [
    "# Embedding: OBJETIVO, ES QUE LA RED LSTM CONSIDERE PALABRAS SEMEJANTES, COMO TALES\n",
    "#lo que hace es generar 1 vector de 0s con solo 1 uno para cada unique word, y el output es el mismo vector, pero algunos 0s cambian de valor!! \n",
    "# En el entrenamiento, lo que se hace es que las mismas palabras tengan pesos semejantes segun contexto! Se entrena de forma supervisada, enseñandole que el output, es la frase.\n",
    "\n",
    "model = tf.keras.models.Sequential([\n",
    "        tf.keras.layers.Embedding(input_dim=10000,output_dim=5,input_length=maxlen),\n",
    "    #10.000 unique words. 16 output interno. Cada palabra va a estar representado con un vector de 16 dimensiones\n",
    "    #output_dim (hyperparameter):\n",
    "        #The larger vocabulary you have you want better representation of it - make the layer larger.\n",
    "        #Si son pocas palabras, y la dim de output es muy grande, seguro hay overfitting.\n",
    "        #Si el input es muy variado, quiero comprimir mas (el)\n",
    "        tf.keras.layers.Bidirectional(tf.keras.layers.LSTM(20,return_sequences=True)), #Bidirecional significa que el contexto puede provenir de la derecha o izq del texto. Son 2 LSTM pero en los 2 ordenes!!\n",
    "        tf.keras.layers.Bidirectional(tf.keras.layers.LSTM(20)),\n",
    "        tf.keras.layers.Dense(qty_label,activation='softmax') #Output, 6 dimensiones (triste, happy, etc.)\n",
    "])\n",
    "\n",
    "model.compile(\n",
    "    loss='sparse_categorical_crossentropy',  #Se define el error buscado. 'sparse_categorical_crossentropy' se usa para problemas de clasificacion\n",
    "    optimizer='adam', #Se encarga de ajustar la velocidad, tiempos, para llegar al punto más optimo, y tener la mayor accuracy (precisión). Ojo con overfitting aca\n",
    "    metrics='accuracy'\n",
    ") #loss y optimazer, usan el concepto de Gradient Descent (GD), que es cuan rapido quiero llegar al optimazer\n",
    "\n",
    "model.optimizer.learning_rate=0.001\n",
    "\n",
    "\n",
    "#LEARNING RATE: La velocidad en la que quiero que el modelo aprenda. Comparo: error minimo vs Epoch. (creo que se modifica en el optimzaer)\n",
    "# Si voy muy lento, nunca voy a llegar al error mínimo y hay riesgo de overfitting.\n",
    "# Si voy muy rapido, los cambios de estado serán tan grandes que nunca voy a llegar al error mínimo. riesgo underfitting\n",
    "\n",
    "# POSSIBLE LOSSES: is used to find error or deviation in the learning process.\n",
    "# Es la diferencia entre lo predicto y lo real en cada train. predijo 0,7 y era 0. tiene que ir modificando los \n",
    "# pesos de las neuronas para que la próxima vez esté mas cerca de 0\n",
    "\n",
    "    # mean_squared_error (regression_loss_funcion. va aintentar disminuir el error de la distancia entre predicción-real)\n",
    "    # mean_absolute_error (regression_loss_funcion)\n",
    "    # mean_absolute_percentage_error (regression_loss_funcion.\n",
    "    # mean_squared_logarithmic_error (regression_loss_funcion.)\n",
    "    # squared_hinge\n",
    "    # hinge\n",
    "    # categorical_hinge\n",
    "    # logcosh\n",
    "    # huber_loss\n",
    "    # categorical_crossentropy\n",
    "    # sparse_categorical_crossentropy: es lo mas comun para clasificacion de numeros enteros categricos\n",
    "    # binary_crossentropy\n",
    "    # kullback_leibler_divergence\n",
    "    # poisson\n",
    "    # cosine_proximity\n",
    "    # is_categorical_crossentropy\n",
    "    \n",
    "    \n",
    "# POSSIBLE OPTIMIZER:important process which optimize the input weights by comparing the prediction\n",
    "# and the loss function\n",
    "    # SGD \n",
    "    # RMSprop \n",
    "    # Adagrad \n",
    "    # Adadelta \n",
    "    # Adam. Es la mas comun\n",
    "    # Adamax \n",
    "    # Nadam \n",
    "\n",
    "\n",
    "# POSSIBLE METRICS: is used to evaluate the performance of your model. It is similar to loss function,\n",
    "# but not used in training process\n",
    "    # accuracy\n",
    "    # binary_accuracy\n",
    "    # categorical_accuracy\n",
    "    # sparse_categorical_accuracy\n",
    "    # top_k_categorical_accuracy\n",
    "    # sparse_top_k_categorical_accuracy\n",
    "    # cosine_proximity\n",
    "    # clone_metric"
   ]
  },
  {
   "cell_type": "code",
   "execution_count": 63,
   "id": "73944445-9155-4a08-9768-ebace7f04c96",
   "metadata": {},
   "outputs": [
    {
     "name": "stdout",
     "output_type": "stream",
     "text": [
      "Model: \"sequential_1\"\n",
      "_________________________________________________________________\n",
      "Layer (type)                 Output Shape              Param #   \n",
      "=================================================================\n",
      "embedding_1 (Embedding)      (None, 20, 5)             50000     \n",
      "_________________________________________________________________\n",
      "bidirectional_2 (Bidirection (None, 20, 40)            4160      \n",
      "_________________________________________________________________\n",
      "bidirectional_3 (Bidirection (None, 40)                9760      \n",
      "_________________________________________________________________\n",
      "dense_1 (Dense)              (None, 9)                 369       \n",
      "=================================================================\n",
      "Total params: 64,289\n",
      "Trainable params: 64,289\n",
      "Non-trainable params: 0\n",
      "_________________________________________________________________\n"
     ]
    }
   ],
   "source": [
    "model.summary()"
   ]
  },
  {
   "cell_type": "code",
   "execution_count": 64,
   "id": "674d6f17-49be-48b6-becd-48d4922f3341",
   "metadata": {},
   "outputs": [],
   "source": [
    "def get_sequences(tokenizer,comentario):\n",
    "    sequences=tokenizer.texts_to_sequences(comentario)\n",
    "    padded=pad_sequences(sequences,truncating='post',padding='post',maxlen=maxlen) #Rellena con 0s para que todos los tweets tengan mismo largo\n",
    "    return padded"
   ]
  },
  {
   "cell_type": "code",
   "execution_count": 65,
   "id": "5e05445c-fc78-4d81-a059-371bc923111b",
   "metadata": {},
   "outputs": [],
   "source": [
    "label_train=df[df.data_type=='train']['label']\n",
    "label_val=df[df.data_type=='val']['label']\n",
    "\n",
    "\n",
    "sequences_train=tokenizer.texts_to_sequences(comentario_train)\n",
    "padded_train_seq=pad_sequences(sequences_train,truncating='post',padding='post',maxlen=maxlen)\n",
    "\n",
    "comentario_val=df[df.data_type=='val']['comentario']\n",
    "sequences_val=tokenizer.texts_to_sequences(comentario_val)\n",
    "padded_val_seq=pad_sequences(sequences_val,truncating='post',padding='post',maxlen=maxlen)"
   ]
  },
  {
   "cell_type": "code",
   "execution_count": 66,
   "id": "5bf56f49-094e-422f-8cc6-db2aa9d7a0fe",
   "metadata": {},
   "outputs": [
    {
     "name": "stdout",
     "output_type": "stream",
     "text": [
      "Epoch 1/15\n",
      "17/17 [==============================] - 5s 74ms/step - loss: 2.1755 - accuracy: 0.1947 - val_loss: 2.1337 - val_accuracy: 0.3220\n",
      "Epoch 2/15\n",
      "17/17 [==============================] - 0s 15ms/step - loss: 2.0512 - accuracy: 0.2401 - val_loss: 1.9905 - val_accuracy: 0.2260\n",
      "Epoch 3/15\n",
      "17/17 [==============================] - 0s 14ms/step - loss: 1.9420 - accuracy: 0.2873 - val_loss: 1.9178 - val_accuracy: 0.3729\n",
      "Epoch 4/15\n",
      "17/17 [==============================] - 0s 14ms/step - loss: 1.8077 - accuracy: 0.3554 - val_loss: 1.7510 - val_accuracy: 0.4237\n",
      "Epoch 5/15\n",
      "17/17 [==============================] - 0s 14ms/step - loss: 1.6062 - accuracy: 0.4272 - val_loss: 1.5982 - val_accuracy: 0.4407\n",
      "Epoch 6/15\n",
      "17/17 [==============================] - 0s 14ms/step - loss: 1.4727 - accuracy: 0.4442 - val_loss: 1.5242 - val_accuracy: 0.4520\n",
      "Epoch 7/15\n",
      "17/17 [==============================] - 0s 15ms/step - loss: 1.3673 - accuracy: 0.4839 - val_loss: 1.5024 - val_accuracy: 0.4407\n",
      "Epoch 8/15\n",
      "17/17 [==============================] - 0s 15ms/step - loss: 1.2645 - accuracy: 0.5501 - val_loss: 1.4629 - val_accuracy: 0.4633\n",
      "Epoch 9/15\n",
      "17/17 [==============================] - 0s 14ms/step - loss: 1.1273 - accuracy: 0.6011 - val_loss: 1.4508 - val_accuracy: 0.4689\n",
      "Epoch 10/15\n",
      "17/17 [==============================] - 0s 14ms/step - loss: 0.9944 - accuracy: 0.6597 - val_loss: 1.4743 - val_accuracy: 0.4689\n",
      "Epoch 11/15\n",
      "17/17 [==============================] - 0s 15ms/step - loss: 0.9098 - accuracy: 0.6900 - val_loss: 1.5100 - val_accuracy: 0.5141\n",
      "Epoch 12/15\n",
      "17/17 [==============================] - 0s 14ms/step - loss: 0.8492 - accuracy: 0.7127 - val_loss: 1.5707 - val_accuracy: 0.4689\n",
      "Epoch 13/15\n",
      "17/17 [==============================] - 0s 15ms/step - loss: 0.7920 - accuracy: 0.7335 - val_loss: 1.6283 - val_accuracy: 0.4576\n",
      "Epoch 14/15\n",
      "17/17 [==============================] - 0s 14ms/step - loss: 0.7518 - accuracy: 0.7335 - val_loss: 1.6473 - val_accuracy: 0.4746\n",
      "Epoch 15/15\n",
      "17/17 [==============================] - 0s 15ms/step - loss: 0.7172 - accuracy: 0.7448 - val_loss: 1.6713 - val_accuracy: 0.4802\n"
     ]
    }
   ],
   "source": [
    "# model.fit(X, y, epochs = , batch_size = , validation_data = (x_val, y_val))\n",
    "h=model.fit(padded_train_seq,np.array(label_train),validation_data=(padded_val_seq,np.array(list(label_val))),\n",
    "    epochs=15)\n",
    "#     callbacks=[tf.keras.callbacks.EarlyStopping(monitor='val_accuracy',patience=2)]) #Si al segundo epoch el modelo no ve mejoras en accuracy, frena"
   ]
  },
  {
   "cell_type": "code",
   "execution_count": 67,
   "id": "50a8e563-567b-4d9a-b774-8c8254899c85",
   "metadata": {},
   "outputs": [],
   "source": [
    "\n",
    "def show_history(h):\n",
    "    epochs_trained = len(h.history['loss'])\n",
    "    plt.figure(figsize=(16, 6))\n",
    "\n",
    "    plt.subplot(1, 2, 1)\n",
    "    plt.plot(range(0, epochs_trained), h.history.get('accuracy'), label='Training')\n",
    "    plt.plot(range(0, epochs_trained), h.history.get('val_accuracy'), label='Validation')\n",
    "    plt.ylim([0., 1.])\n",
    "    plt.xlabel('Epochs')\n",
    "    plt.ylabel('Accuracy')\n",
    "    plt.legend()\n",
    "\n",
    "    plt.subplot(1, 2, 2)\n",
    "    plt.plot(range(0, epochs_trained), h.history.get('loss'), label='Training')\n",
    "    plt.plot(range(0, epochs_trained), h.history.get('val_loss'), label='Validation')\n",
    "    plt.xlabel('Epochs')\n",
    "    plt.ylabel('Loss')\n",
    "    plt.legend()\n",
    "    plt.show()\n"
   ]
  },
  {
   "cell_type": "code",
   "execution_count": 68,
   "id": "39c2e293-7277-4247-ad64-a3a032534fe1",
   "metadata": {},
   "outputs": [
    {
     "data": {
      "image/png": "[encoded data removed]",
      "text/plain": [
       "<Figure size 1152x432 with 2 Axes>"
      ]
     },
     "metadata": {
      "needs_background": "light"
     },
     "output_type": "display_data"
    }
   ],
   "source": [
    "show_history(h)\n",
    "\n",
    "#Cuando se el train mejora (cae)el loss, pero el loss validation no, sino que sube, eso es un claro Overfitting. \n",
    "# Empieza a replicar a la perfección el train"
   ]
  },
  {
   "cell_type": "markdown",
   "id": "28aae99e-1e9f-437f-94c4-f44f08951902",
   "metadata": {},
   "source": [
    "TESTEO CON OTRA MUESTRA REAL"
   ]
  },
  {
   "cell_type": "code",
   "execution_count": 69,
   "id": "669bffab-c0e6-4607-a947-cd8db3f0c487",
   "metadata": {},
   "outputs": [],
   "source": [
    "comentario_test=df[df.data_type=='test']['comentario']\n",
    "sequences_test=tokenizer.texts_to_sequences(comentario_test)\n",
    "padded_test_seq=pad_sequences(sequences_test,truncating='post',padding='post',maxlen=maxlen)"
   ]
  },
  {
   "cell_type": "code",
   "execution_count": 70,
   "id": "4985ddbc-d752-4a90-b4f4-ab81b08002bb",
   "metadata": {},
   "outputs": [
    {
     "name": "stdout",
     "output_type": "stream",
     "text": [
      "8/8 [==============================] - 1s 5ms/step - loss: 4.2070 - accuracy: 0.1568\n"
     ]
    }
   ],
   "source": [
    "_=model.evaluate(np.array(padded_test_seq),np.array(y_test))"
   ]
  },
  {
   "cell_type": "code",
   "execution_count": 71,
   "id": "3ae8eb21-f49b-4551-a313-e227113e3ca4",
   "metadata": {},
   "outputs": [],
   "source": [
    "df_test=df[df.data_type=='test'].reset_index()"
   ]
  },
  {
   "cell_type": "code",
   "execution_count": 112,
   "id": "23e97137-56fb-46d6-8587-821f148e22ec",
   "metadata": {},
   "outputs": [
    {
     "name": "stdout",
     "output_type": "stream",
     "text": [
      "Sentence:\" reemplazos facilitador desvincula produzcan manera inmediata. mas intereses empresa hacia contratistas tratar mantener nivel ingresos disminuidos considerablemente solo tema pandemia sino competencia nuevos aplicativos alianzas.\"\n",
      "Category:          \"Otros\"\n",
      "Predicted Category \"Convenios y franquicias \"\n",
      "\n",
      "\n",
      "Ponderación de los labels sobre la frase:\n",
      "Capacitación y atención de PAPs [0.18] \n",
      "Convenios y franquicias  [0.36] \n",
      "Marketing/publicidad [0.09]\n",
      "Otros [0.15]\n",
      "Satisfacción [0.02]\n",
      "Soporte a PAPs [0.03]\n",
      "Topes [0.15]\n",
      "Sieweb [0.01]\n"
     ]
    }
   ],
   "source": [
    "#Pruebas de testeo sobre comentarios random\n",
    "\n",
    "rand=random.randint(0,len(df_test)-1) #genero numero random\n",
    "\n",
    "p=model.predict(np.expand_dims(padded_test_seq[rand],axis=0))[0]\n",
    "pred_class=index_to_class[np.argmax(p).astype('uint8')] #lo paso a comentario, no numero\n",
    "\n",
    "print('Sentence:\"{}\"\\nCategory:          \"{}\"\\nPredicted Category \"{}\"\\n\\n'.format(\n",
    "    np.array(df_test['comentario'])[rand],\n",
    "    (df_test['category'][rand]),\n",
    "    pred_class))\n",
    "\n",
    "\n",
    "#PARA 2 CATEGROIAS\n",
    "# print('Ponderación de los labels sobre la frase:\\n{} {} \\n{} {}'.format(\n",
    "#     category[0],[round(p[0],2)],\n",
    "#     category[1],[round(p[1],2)]))\n",
    "\n",
    "#PARA 3 CATEGROIAS\n",
    "print('Ponderación de los labels sobre la frase:\\n{} {} \\n{} {} \\n{} {}\\n{} {}\\n{} {}\\n{} {}\\n{} {}\\n{} {}'.format(\n",
    "    category[0],[round(p[0],2)],\n",
    "    category[1],[round(p[1],2)],\n",
    "    category[2],[round(p[2],2)],\n",
    "    category[3],[round(p[3],2)],\n",
    "    category[4],[round(p[4],2)],\n",
    "    category[5],[round(p[5],2)],\n",
    "    category[6],[round(p[6],2)],\n",
    "    category[7],[round(p[7],2)],\n",
    "\n",
    "\n",
    "))"
   ]
  },
  {
   "cell_type": "code",
   "execution_count": 73,
   "id": "97a6526c-5b5d-49f3-aa0f-88d135917c5b",
   "metadata": {},
   "outputs": [],
   "source": [
    "#Predicción de todos los comentarios test\n",
    "preds=np.argmax(model.predict(padded_test_seq), axis=-1)\n",
    "preds\n",
    "\n",
    "df_test['label_predict']=preds\n",
    "df_test['category_predict']=df_test['label_predict'].replace(index_to_class)"
   ]
  },
  {
   "cell_type": "code",
   "execution_count": 74,
   "id": "b641a599-a07d-4b43-bfda-9fe664526a5b",
   "metadata": {},
   "outputs": [
    {
     "data": {
      "text/html": [
       "<div>\n",
       "<style scoped>\n",
       "    .dataframe tbody tr th:only-of-type {\n",
       "        vertical-align: middle;\n",
       "    }\n",
       "\n",
       "    .dataframe tbody tr th {\n",
       "        vertical-align: top;\n",
       "    }\n",
       "\n",
       "    .dataframe thead th {\n",
       "        text-align: right;\n",
       "    }\n",
       "</style>\n",
       "<table border=\"1\" class=\"dataframe\">\n",
       "  <thead>\n",
       "    <tr style=\"text-align: right;\">\n",
       "      <th></th>\n",
       "      <th></th>\n",
       "      <th>index</th>\n",
       "    </tr>\n",
       "    <tr>\n",
       "      <th>category</th>\n",
       "      <th>category_predict</th>\n",
       "      <th></th>\n",
       "    </tr>\n",
       "  </thead>\n",
       "  <tbody>\n",
       "    <tr>\n",
       "      <th rowspan=\"2\" valign=\"top\">Capacitación y atención de PAPs</th>\n",
       "      <th>Convenios y franquicias</th>\n",
       "      <td>13</td>\n",
       "    </tr>\n",
       "    <tr>\n",
       "      <th>Soporte a PAPs</th>\n",
       "      <td>2</td>\n",
       "    </tr>\n",
       "    <tr>\n",
       "      <th rowspan=\"3\" valign=\"top\">Convenios y franquicias</th>\n",
       "      <th>Convenios y franquicias</th>\n",
       "      <td>24</td>\n",
       "    </tr>\n",
       "    <tr>\n",
       "      <th>Sieweb</th>\n",
       "      <td>2</td>\n",
       "    </tr>\n",
       "    <tr>\n",
       "      <th>Soporte a PAPs</th>\n",
       "      <td>4</td>\n",
       "    </tr>\n",
       "    <tr>\n",
       "      <th rowspan=\"2\" valign=\"top\">Marketing/publicidad</th>\n",
       "      <th>Convenios y franquicias</th>\n",
       "      <td>6</td>\n",
       "    </tr>\n",
       "    <tr>\n",
       "      <th>Soporte a PAPs</th>\n",
       "      <td>1</td>\n",
       "    </tr>\n",
       "    <tr>\n",
       "      <th rowspan=\"3\" valign=\"top\">Otros</th>\n",
       "      <th>Convenios y franquicias</th>\n",
       "      <td>4</td>\n",
       "    </tr>\n",
       "    <tr>\n",
       "      <th>Sieweb</th>\n",
       "      <td>3</td>\n",
       "    </tr>\n",
       "    <tr>\n",
       "      <th>Soporte a PAPs</th>\n",
       "      <td>6</td>\n",
       "    </tr>\n",
       "    <tr>\n",
       "      <th rowspan=\"4\" valign=\"top\">Satisfacción</th>\n",
       "      <th>Satisfacción</th>\n",
       "      <td>8</td>\n",
       "    </tr>\n",
       "    <tr>\n",
       "      <th>Sieweb</th>\n",
       "      <td>1</td>\n",
       "    </tr>\n",
       "    <tr>\n",
       "      <th>Soporte a PAPs</th>\n",
       "      <td>2</td>\n",
       "    </tr>\n",
       "    <tr>\n",
       "      <th>sin comentarios</th>\n",
       "      <td>5</td>\n",
       "    </tr>\n",
       "    <tr>\n",
       "      <th rowspan=\"5\" valign=\"top\">Sieweb</th>\n",
       "      <th>Convenios y franquicias</th>\n",
       "      <td>9</td>\n",
       "    </tr>\n",
       "    <tr>\n",
       "      <th>Satisfacción</th>\n",
       "      <td>3</td>\n",
       "    </tr>\n",
       "    <tr>\n",
       "      <th>Sieweb</th>\n",
       "      <td>7</td>\n",
       "    </tr>\n",
       "    <tr>\n",
       "      <th>Soporte a PAPs</th>\n",
       "      <td>16</td>\n",
       "    </tr>\n",
       "    <tr>\n",
       "      <th>sin comentarios</th>\n",
       "      <td>1</td>\n",
       "    </tr>\n",
       "    <tr>\n",
       "      <th rowspan=\"4\" valign=\"top\">Soporte a PAPs</th>\n",
       "      <th>Convenios y franquicias</th>\n",
       "      <td>23</td>\n",
       "    </tr>\n",
       "    <tr>\n",
       "      <th>Sieweb</th>\n",
       "      <td>5</td>\n",
       "    </tr>\n",
       "    <tr>\n",
       "      <th>Soporte a PAPs</th>\n",
       "      <td>23</td>\n",
       "    </tr>\n",
       "    <tr>\n",
       "      <th>sin comentarios</th>\n",
       "      <td>1</td>\n",
       "    </tr>\n",
       "    <tr>\n",
       "      <th rowspan=\"2\" valign=\"top\">Topes</th>\n",
       "      <th>Convenios y franquicias</th>\n",
       "      <td>11</td>\n",
       "    </tr>\n",
       "    <tr>\n",
       "      <th>Soporte a PAPs</th>\n",
       "      <td>2</td>\n",
       "    </tr>\n",
       "    <tr>\n",
       "      <th rowspan=\"3\" valign=\"top\">sin comentarios</th>\n",
       "      <th>Satisfacción</th>\n",
       "      <td>2</td>\n",
       "    </tr>\n",
       "    <tr>\n",
       "      <th>Sieweb</th>\n",
       "      <td>1</td>\n",
       "    </tr>\n",
       "    <tr>\n",
       "      <th>sin comentarios</th>\n",
       "      <td>51</td>\n",
       "    </tr>\n",
       "  </tbody>\n",
       "</table>\n",
       "</div>"
      ],
      "text/plain": [
       "                                                          index\n",
       "category                        category_predict               \n",
       "Capacitación y atención de PAPs Convenios y franquicias   13   \n",
       "                                Soporte a PAPs            2    \n",
       "Convenios y franquicias         Convenios y franquicias   24   \n",
       "                                Sieweb                    2    \n",
       "                                Soporte a PAPs            4    \n",
       "Marketing/publicidad            Convenios y franquicias   6    \n",
       "                                Soporte a PAPs            1    \n",
       "Otros                           Convenios y franquicias   4    \n",
       "                                Sieweb                    3    \n",
       "                                Soporte a PAPs            6    \n",
       "Satisfacción                    Satisfacción              8    \n",
       "                                Sieweb                    1    \n",
       "                                Soporte a PAPs            2    \n",
       "                                sin comentarios           5    \n",
       "Sieweb                          Convenios y franquicias   9    \n",
       "                                Satisfacción              3    \n",
       "                                Sieweb                    7    \n",
       "                                Soporte a PAPs            16   \n",
       "                                sin comentarios           1    \n",
       "Soporte a PAPs                  Convenios y franquicias   23   \n",
       "                                Sieweb                    5    \n",
       "                                Soporte a PAPs            23   \n",
       "                                sin comentarios           1    \n",
       "Topes                           Convenios y franquicias   11   \n",
       "                                Soporte a PAPs            2    \n",
       "sin comentarios                 Satisfacción              2    \n",
       "                                Sieweb                    1    \n",
       "                                sin comentarios           51   "
      ]
     },
     "execution_count": 74,
     "metadata": {},
     "output_type": "execute_result"
    }
   ],
   "source": [
    "# Vizualizar predicciones\n",
    "pd.DataFrame(df_test.groupby(['category','category_predict'])['index'].count())"
   ]
  },
  {
   "cell_type": "code",
   "execution_count": 75,
   "id": "c82fdca1-1d41-4f88-8a3b-076c514575cb",
   "metadata": {},
   "outputs": [
    {
     "name": "stderr",
     "output_type": "stream",
     "text": [
      "<ipython-input-75-13b2e14da10c>:27: RuntimeWarning: invalid value encountered in longlong_scalars\n",
      "  Prec= TP1/(TP1+FP1) # #Precisión\n"
     ]
    },
    {
     "data": {
      "text/plain": [
       "<Figure size 432x288 with 0 Axes>"
      ]
     },
     "metadata": {},
     "output_type": "display_data"
    }
   ],
   "source": [
    "from sklearn.metrics import confusion_matrix, ConfusionMatrixDisplay\n",
    "plt.clf() # Start over\n",
    "# https://scikit-learn.org/stable/modules/generated/sklearn.metrics.ConfusionMatrixDisplay.html\n",
    "cm = confusion_matrix(df_test['category'],df_test['category_predict'])\n",
    "\n",
    "\n",
    "#CUANDO HAY SOLO 2 CATEGORIAS\n",
    "# TP=cm[0][0]\n",
    "# FN=cm[0][1]\n",
    "# FP=cm[1][0]\n",
    "# TN=cm[1][1]\n",
    "# Sens=TP/(TP+FN) #Sensibilidad \n",
    "# UnomSp=FP/(FP+TN) #(1-Specify)\n",
    "# Prec= TP/(TP+FP) # #Precisión\n",
    "# # Lo mas eficiente es sensibilidad=1, 1-Sepcify=0\n",
    "# # TP  FN  \n",
    "# # FP  TN\n",
    "\n",
    "#CUANDO HAY 3 CATEGORIAS\n",
    "TP1=cm[0][0]\n",
    "FN1=cm[0][1]+cm[0][2]\n",
    "FN1bis=cm[1][2]+cm[2][1]\n",
    "FP1=cm[1][0]+cm[2][0]\n",
    "TN1=cm[1][1]+cm[2][2]\n",
    "Sens=TP1/(TP1+FN1) #Sensibilidad \n",
    "UnomSp=FP1/(FP1+TN1+FN1bis) #(1-Specify)\n",
    "Prec= TP1/(TP1+FP1) # #Precisión\n",
    "# Lo mas eficiente es sensibilidad=1, 1-Sepcify=0\n",
    "# TP  FN  \n",
    "# FP  TN"
   ]
  },
  {
   "cell_type": "code",
   "execution_count": 76,
   "id": "b83aed7a-8b7e-4d0e-9027-7db398014d37",
   "metadata": {},
   "outputs": [
    {
     "data": {
      "image/png": "[encoded data removed]",
      "text/plain": [
       "<Figure size 432x288 with 2 Axes>"
      ]
     },
     "metadata": {
      "needs_background": "light"
     },
     "output_type": "display_data"
    },
    {
     "name": "stdout",
     "output_type": "stream",
     "text": [
      "Resultados de Capacitación y atención de PAPs:\n",
      "De los 13 comentarios test reales \"Capacitación y atención de PAPs\", el 0.0% fueron correctamente predictos como Capacitación y atención de PAPs (Sensibilidad)\n",
      "De los 30 comentarios test reales \"no Capacitación y atención de PAPs\", el 0% fueron erroneamente predictos como Capacitación y atención de PAPs (1-Specify)\n"
     ]
    },
    {
     "ename": "ValueError",
     "evalue": "cannot convert float NaN to integer",
     "output_type": "error",
     "traceback": [
      "\u001b[1;31m---------------------------------------------------------------------------\u001b[0m",
      "\u001b[1;31mValueError\u001b[0m                                Traceback (most recent call last)",
      "\u001b[1;32m<ipython-input-76-385d6c52a777>\u001b[0m in \u001b[0;36m<module>\u001b[1;34m\u001b[0m\n\u001b[0;32m      5\u001b[0m \u001b[0mprint\u001b[0m\u001b[1;33m(\u001b[0m\u001b[1;34mf'De los {TP1+FN1} comentarios test reales \"{category[0]}\", el {round(Sens,2)*100}% fueron correctamente predictos como {category[0]} (Sensibilidad)'\u001b[0m\u001b[1;33m)\u001b[0m\u001b[1;33m\u001b[0m\u001b[1;33m\u001b[0m\u001b[0m\n\u001b[0;32m      6\u001b[0m \u001b[0mprint\u001b[0m\u001b[1;33m(\u001b[0m\u001b[1;34mf'De los {TN1+FP1+FN1bis} comentarios test reales \"no {category[0]}\", el {round(UnomSp*100)}% fueron erroneamente predictos como {category[0]} (1-Specify)'\u001b[0m\u001b[1;33m)\u001b[0m\u001b[1;33m\u001b[0m\u001b[1;33m\u001b[0m\u001b[0m\n\u001b[1;32m----> 7\u001b[1;33m \u001b[0mprint\u001b[0m\u001b[1;33m(\u001b[0m\u001b[1;34mf'De los {TP1+FP1} comentarios test predictos como \"{category[0]}\", el {round(Prec*100)}% fueron correctamente predictos como {category[0]} (Precisión/Accuracy)'\u001b[0m\u001b[1;33m)\u001b[0m\u001b[1;33m\u001b[0m\u001b[1;33m\u001b[0m\u001b[0m\n\u001b[0m",
      "\u001b[1;31mValueError\u001b[0m: cannot convert float NaN to integer"
     ]
    }
   ],
   "source": [
    "disp = ConfusionMatrixDisplay(confusion_matrix=cm)\n",
    "disp.plot() \n",
    "plt.show()\n",
    "print(f'Resultados de {category[0]}:')\n",
    "print(f'De los {TP1+FN1} comentarios test reales \"{category[0]}\", el {round(Sens,2)*100}% fueron correctamente predictos como {category[0]} (Sensibilidad)')\n",
    "print(f'De los {TN1+FP1+FN1bis} comentarios test reales \"no {category[0]}\", el {round(UnomSp*100)}% fueron erroneamente predictos como {category[0]} (1-Specify)') \n",
    "print(f'De los {TP1+FP1} comentarios test predictos como \"{category[0]}\", el {round(Prec*100)}% fueron correctamente predictos como {category[0]} (Precisión/Accuracy)') "
   ]
  },
  {
   "cell_type": "code",
   "execution_count": null,
   "id": "ad1a4206-830d-4bdc-b92b-210547c4725e",
   "metadata": {},
   "outputs": [],
   "source": [
    "class_to_index \n",
    "# sieweb te lo confunde con topes\n",
    "#Satisfacción con topes y capacitación\n",
    "#Capacitación con topes"
   ]
  },
  {
   "cell_type": "code",
   "execution_count": null,
   "id": "6e7feedb-3ba7-4f0b-8054-3c3ebf1afcc7",
   "metadata": {},
   "outputs": [],
   "source": [
    "#GUARDAR EL MODELO! y como volverlo a usar\n",
    "\n",
    "# from keras.models import load_model\n",
    "\n",
    "# model.save('modelo_NLP_v1.h5')  # creates a HDF5 file \n",
    "# del model  # deletes the existing model\n",
    "\n",
    "\n",
    "# model = load_model('modelo_NLP_v1.h5') #Carga el modelo guardado para usarlo\n"
   ]
  },
  {
   "cell_type": "code",
   "execution_count": null,
   "id": "9033e0ae-85e8-4ced-be0a-df4e4e031694",
   "metadata": {},
   "outputs": [],
   "source": [
    "# #Guardar tokenizer!\n",
    "# import pickle\n",
    "\n",
    "# # saving\n",
    "# with open('tokenizer.model_v3', 'wb') as handle:\n",
    "#     pickle.dump(tokenizer, handle, protocol=pickle.HIGHEST_PROTOCOL)\n",
    "\n",
    "# import pickle\n",
    "# loading\n",
    "# with open('tokenizer.pickle', 'rb') as handle:\n",
    "#     tokenizer = pickle.load(handle)"
   ]
  }
 ],
 "metadata": {
  "kernelspec": {
   "display_name": "Python 3",
   "language": "python",
   "name": "python3"
  },
  "language_info": {
   "codemirror_mode": {
    "name": "ipython",
    "version": 3
   },
   "file_extension": ".py",
   "mimetype": "text/x-python",
   "name": "python",
   "nbconvert_exporter": "python",
   "pygments_lexer": "ipython3",
   "version": "3.8.8"
  }
 },
 "nbformat": 4,
 "nbformat_minor": 5
}
